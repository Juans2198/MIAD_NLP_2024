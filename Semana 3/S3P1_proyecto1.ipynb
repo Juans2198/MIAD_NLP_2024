{
 "cells": [
  {
   "cell_type": "markdown",
   "metadata": {},
   "source": [
    "![image info](https://raw.githubusercontent.com/davidzarruk/MIAD_ML_NLP_2023/main/images/banner_1.png)"
   ]
  },
  {
   "cell_type": "markdown",
   "metadata": {},
   "source": [
    "# Proyecto 1 - Predicción de precios de vehículos usados\n",
    "\n",
    "En este proyecto podrán poner en práctica sus conocimientos sobre modelos predictivos basados en árboles y ensambles, y sobre la disponibilización de modelos. Para su desasrrollo tengan en cuenta las instrucciones dadas en la \"Guía del proyecto 1: Predicción de precios de vehículos usados\".\n",
    "\n",
    "**Entrega**: La entrega del proyecto deberán realizarla durante la semana 4. Sin embargo, es importante que avancen en la semana 3 en el modelado del problema y en parte del informe, tal y como se les indicó en la guía.\n",
    "\n",
    "Para hacer la entrega, deberán adjuntar el informe autocontenido en PDF a la actividad de entrega del proyecto que encontrarán en la semana 4, y subir el archivo de predicciones a la [competencia de Kaggle](https://www.kaggle.com/t/b8be43cf89c540bfaf3831f2c8506614)."
   ]
  },
  {
   "cell_type": "markdown",
   "metadata": {},
   "source": [
    "## Datos para la predicción de precios de vehículos usados\n",
    "\n",
    "En este proyecto se usará el conjunto de datos de Car Listings de Kaggle, donde cada observación representa el precio de un automóvil teniendo en cuenta distintas variables como: año, marca, modelo, entre otras. El objetivo es predecir el precio del automóvil. Para más detalles puede visitar el siguiente enlace: [datos](https://www.kaggle.com/jpayne/852k-used-car-listings)."
   ]
  },
  {
   "cell_type": "markdown",
   "metadata": {},
   "source": [
    "## Ejemplo predicción conjunto de test para envío a Kaggle\n",
    "\n",
    "En esta sección encontrarán el formato en el que deben guardar los resultados de la predicción para que puedan subirlos a la competencia en Kaggle."
   ]
  },
  {
   "cell_type": "code",
   "execution_count": 1,
   "metadata": {},
   "outputs": [
    {
     "name": "stdout",
     "output_type": "stream",
     "text": [
      "Requirement already satisfied: xgboost in c:\\users\\asus\\appdata\\local\\packages\\pythonsoftwarefoundation.python.3.9_qbz5n2kfra8p0\\localcache\\local-packages\\python39\\site-packages (2.0.3)\n",
      "Requirement already satisfied: numpy in c:\\users\\asus\\appdata\\local\\packages\\pythonsoftwarefoundation.python.3.9_qbz5n2kfra8p0\\localcache\\local-packages\\python39\\site-packages (from xgboost) (1.26.4)\n",
      "Requirement already satisfied: scipy in c:\\users\\asus\\appdata\\local\\packages\\pythonsoftwarefoundation.python.3.9_qbz5n2kfra8p0\\localcache\\local-packages\\python39\\site-packages (from xgboost) (1.13.0)\n"
     ]
    },
    {
     "name": "stderr",
     "output_type": "stream",
     "text": [
      "WARNING: You are using pip version 22.0.4; however, version 24.0 is available.\n",
      "You should consider upgrading via the 'C:\\Users\\Asus\\AppData\\Local\\Microsoft\\WindowsApps\\PythonSoftwareFoundation.Python.3.9_qbz5n2kfra8p0\\python.exe -m pip install --upgrade pip' command.\n"
     ]
    }
   ],
   "source": [
    "!pip install xgboost\n",
    "import xgboost as xgb"
   ]
  },
  {
   "cell_type": "code",
   "execution_count": 2,
   "metadata": {},
   "outputs": [],
   "source": [
    "from sklearn.ensemble import RandomForestRegressor\n",
    "from sklearn.ensemble import GradientBoostingRegressor\n",
    "from sklearn.metrics import mean_squared_error\n",
    "from sklearn.model_selection import GridSearchCV\n",
    "from xgboost import XGBRegressor\n",
    "import math as m"
   ]
  },
  {
   "cell_type": "code",
   "execution_count": 3,
   "metadata": {},
   "outputs": [],
   "source": [
    "import warnings\n",
    "warnings.filterwarnings('ignore')"
   ]
  },
  {
   "cell_type": "code",
   "execution_count": 4,
   "metadata": {},
   "outputs": [
    {
     "name": "stdout",
     "output_type": "stream",
     "text": [
      "Requirement already satisfied: pandas in c:\\users\\asus\\appdata\\local\\packages\\pythonsoftwarefoundation.python.3.9_qbz5n2kfra8p0\\localcache\\local-packages\\python39\\site-packages (2.2.2)\n",
      "Requirement already satisfied: numpy>=1.22.4 in c:\\users\\asus\\appdata\\local\\packages\\pythonsoftwarefoundation.python.3.9_qbz5n2kfra8p0\\localcache\\local-packages\\python39\\site-packages (from pandas) (1.26.4)\n",
      "Requirement already satisfied: pytz>=2020.1 in c:\\users\\asus\\appdata\\local\\packages\\pythonsoftwarefoundation.python.3.9_qbz5n2kfra8p0\\localcache\\local-packages\\python39\\site-packages (from pandas) (2024.1)\n",
      "Requirement already satisfied: python-dateutil>=2.8.2 in c:\\users\\asus\\appdata\\local\\packages\\pythonsoftwarefoundation.python.3.9_qbz5n2kfra8p0\\localcache\\local-packages\\python39\\site-packages (from pandas) (2.9.0.post0)\n",
      "Requirement already satisfied: tzdata>=2022.7 in c:\\users\\asus\\appdata\\local\\packages\\pythonsoftwarefoundation.python.3.9_qbz5n2kfra8p0\\localcache\\local-packages\\python39\\site-packages (from pandas) (2024.1)\n",
      "Requirement already satisfied: six>=1.5 in c:\\users\\asus\\appdata\\local\\packages\\pythonsoftwarefoundation.python.3.9_qbz5n2kfra8p0\\localcache\\local-packages\\python39\\site-packages (from python-dateutil>=2.8.2->pandas) (1.16.0)\n"
     ]
    },
    {
     "name": "stderr",
     "output_type": "stream",
     "text": [
      "WARNING: You are using pip version 22.0.4; however, version 24.0 is available.\n",
      "You should consider upgrading via the 'C:\\Users\\Asus\\AppData\\Local\\Microsoft\\WindowsApps\\PythonSoftwareFoundation.Python.3.9_qbz5n2kfra8p0\\python.exe -m pip install --upgrade pip' command.\n"
     ]
    }
   ],
   "source": [
    "# Importación librerías\n",
    "!pip install pandas\n",
    "import pandas as pd\n",
    "import numpy as np"
   ]
  },
  {
   "cell_type": "code",
   "execution_count": 5,
   "metadata": {},
   "outputs": [],
   "source": [
    "# Carga de datos de archivo .csv\n",
    "dataTraining = pd.read_csv('https://raw.githubusercontent.com/davidzarruk/MIAD_ML_NLP_2023/main/datasets/dataTrain_carListings.zip')\n",
    "dataTesting = pd.read_csv('https://raw.githubusercontent.com/davidzarruk/MIAD_ML_NLP_2023/main/datasets/dataTest_carListings.zip', index_col=0)"
   ]
  },
  {
   "cell_type": "code",
   "execution_count": 6,
   "metadata": {},
   "outputs": [
    {
     "data": {
      "text/html": [
       "<div>\n",
       "<style scoped>\n",
       "    .dataframe tbody tr th:only-of-type {\n",
       "        vertical-align: middle;\n",
       "    }\n",
       "\n",
       "    .dataframe tbody tr th {\n",
       "        vertical-align: top;\n",
       "    }\n",
       "\n",
       "    .dataframe thead th {\n",
       "        text-align: right;\n",
       "    }\n",
       "</style>\n",
       "<table border=\"1\" class=\"dataframe\">\n",
       "  <thead>\n",
       "    <tr style=\"text-align: right;\">\n",
       "      <th></th>\n",
       "      <th>Price</th>\n",
       "      <th>Year</th>\n",
       "      <th>Mileage</th>\n",
       "      <th>State</th>\n",
       "      <th>Make</th>\n",
       "      <th>Model</th>\n",
       "    </tr>\n",
       "  </thead>\n",
       "  <tbody>\n",
       "    <tr>\n",
       "      <th>0</th>\n",
       "      <td>34995</td>\n",
       "      <td>2017</td>\n",
       "      <td>9913</td>\n",
       "      <td>FL</td>\n",
       "      <td>Jeep</td>\n",
       "      <td>Wrangler</td>\n",
       "    </tr>\n",
       "    <tr>\n",
       "      <th>1</th>\n",
       "      <td>37895</td>\n",
       "      <td>2015</td>\n",
       "      <td>20578</td>\n",
       "      <td>OH</td>\n",
       "      <td>Chevrolet</td>\n",
       "      <td>Tahoe4WD</td>\n",
       "    </tr>\n",
       "    <tr>\n",
       "      <th>2</th>\n",
       "      <td>18430</td>\n",
       "      <td>2012</td>\n",
       "      <td>83716</td>\n",
       "      <td>TX</td>\n",
       "      <td>BMW</td>\n",
       "      <td>X5AWD</td>\n",
       "    </tr>\n",
       "    <tr>\n",
       "      <th>3</th>\n",
       "      <td>24681</td>\n",
       "      <td>2014</td>\n",
       "      <td>28729</td>\n",
       "      <td>OH</td>\n",
       "      <td>Cadillac</td>\n",
       "      <td>SRXLuxury</td>\n",
       "    </tr>\n",
       "    <tr>\n",
       "      <th>4</th>\n",
       "      <td>26998</td>\n",
       "      <td>2013</td>\n",
       "      <td>64032</td>\n",
       "      <td>CO</td>\n",
       "      <td>Jeep</td>\n",
       "      <td>Wrangler</td>\n",
       "    </tr>\n",
       "  </tbody>\n",
       "</table>\n",
       "</div>"
      ],
      "text/plain": [
       "   Price  Year  Mileage State       Make      Model\n",
       "0  34995  2017     9913    FL       Jeep   Wrangler\n",
       "1  37895  2015    20578    OH  Chevrolet   Tahoe4WD\n",
       "2  18430  2012    83716    TX        BMW      X5AWD\n",
       "3  24681  2014    28729    OH   Cadillac  SRXLuxury\n",
       "4  26998  2013    64032    CO       Jeep   Wrangler"
      ]
     },
     "execution_count": 6,
     "metadata": {},
     "output_type": "execute_result"
    }
   ],
   "source": [
    "# Visualización datos de entrenamiento\n",
    "dataTraining.head()"
   ]
  },
  {
   "cell_type": "code",
   "execution_count": 7,
   "metadata": {},
   "outputs": [
    {
     "data": {
      "text/html": [
       "<div>\n",
       "<style scoped>\n",
       "    .dataframe tbody tr th:only-of-type {\n",
       "        vertical-align: middle;\n",
       "    }\n",
       "\n",
       "    .dataframe tbody tr th {\n",
       "        vertical-align: top;\n",
       "    }\n",
       "\n",
       "    .dataframe thead th {\n",
       "        text-align: right;\n",
       "    }\n",
       "</style>\n",
       "<table border=\"1\" class=\"dataframe\">\n",
       "  <thead>\n",
       "    <tr style=\"text-align: right;\">\n",
       "      <th></th>\n",
       "      <th>Year</th>\n",
       "      <th>Mileage</th>\n",
       "      <th>State</th>\n",
       "      <th>Make</th>\n",
       "      <th>Model</th>\n",
       "    </tr>\n",
       "    <tr>\n",
       "      <th>ID</th>\n",
       "      <th></th>\n",
       "      <th></th>\n",
       "      <th></th>\n",
       "      <th></th>\n",
       "      <th></th>\n",
       "    </tr>\n",
       "  </thead>\n",
       "  <tbody>\n",
       "    <tr>\n",
       "      <th>0</th>\n",
       "      <td>2014</td>\n",
       "      <td>31909</td>\n",
       "      <td>MD</td>\n",
       "      <td>Nissan</td>\n",
       "      <td>MuranoAWD</td>\n",
       "    </tr>\n",
       "    <tr>\n",
       "      <th>1</th>\n",
       "      <td>2017</td>\n",
       "      <td>5362</td>\n",
       "      <td>FL</td>\n",
       "      <td>Jeep</td>\n",
       "      <td>Wrangler</td>\n",
       "    </tr>\n",
       "    <tr>\n",
       "      <th>2</th>\n",
       "      <td>2014</td>\n",
       "      <td>50300</td>\n",
       "      <td>OH</td>\n",
       "      <td>Ford</td>\n",
       "      <td>FlexLimited</td>\n",
       "    </tr>\n",
       "    <tr>\n",
       "      <th>3</th>\n",
       "      <td>2004</td>\n",
       "      <td>132160</td>\n",
       "      <td>WA</td>\n",
       "      <td>BMW</td>\n",
       "      <td>5</td>\n",
       "    </tr>\n",
       "    <tr>\n",
       "      <th>4</th>\n",
       "      <td>2015</td>\n",
       "      <td>25226</td>\n",
       "      <td>MA</td>\n",
       "      <td>Jeep</td>\n",
       "      <td>Grand</td>\n",
       "    </tr>\n",
       "  </tbody>\n",
       "</table>\n",
       "</div>"
      ],
      "text/plain": [
       "    Year  Mileage State    Make        Model\n",
       "ID                                          \n",
       "0   2014    31909    MD  Nissan    MuranoAWD\n",
       "1   2017     5362    FL    Jeep     Wrangler\n",
       "2   2014    50300    OH    Ford  FlexLimited\n",
       "3   2004   132160    WA     BMW            5\n",
       "4   2015    25226    MA    Jeep        Grand"
      ]
     },
     "execution_count": 7,
     "metadata": {},
     "output_type": "execute_result"
    }
   ],
   "source": [
    "# Visualización datos de test\n",
    "dataTesting.head()"
   ]
  },
  {
   "cell_type": "code",
   "execution_count": 8,
   "metadata": {},
   "outputs": [],
   "source": [
    "# Predicción del conjunto de test - acá se genera un número aleatorio como ejemplo\n",
    "np.random.seed(42)\n",
    "y_pred = pd.DataFrame(np.random.rand(dataTesting.shape[0]) * 75000 + 5000, index=dataTesting.index, columns=['Price'])"
   ]
  },
  {
   "cell_type": "code",
   "execution_count": 9,
   "metadata": {},
   "outputs": [
    {
     "data": {
      "text/html": [
       "<div>\n",
       "<style scoped>\n",
       "    .dataframe tbody tr th:only-of-type {\n",
       "        vertical-align: middle;\n",
       "    }\n",
       "\n",
       "    .dataframe tbody tr th {\n",
       "        vertical-align: top;\n",
       "    }\n",
       "\n",
       "    .dataframe thead th {\n",
       "        text-align: right;\n",
       "    }\n",
       "</style>\n",
       "<table border=\"1\" class=\"dataframe\">\n",
       "  <thead>\n",
       "    <tr style=\"text-align: right;\">\n",
       "      <th></th>\n",
       "      <th>Price</th>\n",
       "    </tr>\n",
       "    <tr>\n",
       "      <th>ID</th>\n",
       "      <th></th>\n",
       "    </tr>\n",
       "  </thead>\n",
       "  <tbody>\n",
       "    <tr>\n",
       "      <th>0</th>\n",
       "      <td>33090.508914</td>\n",
       "    </tr>\n",
       "    <tr>\n",
       "      <th>1</th>\n",
       "      <td>76303.572981</td>\n",
       "    </tr>\n",
       "    <tr>\n",
       "      <th>2</th>\n",
       "      <td>59899.545636</td>\n",
       "    </tr>\n",
       "    <tr>\n",
       "      <th>3</th>\n",
       "      <td>49899.386315</td>\n",
       "    </tr>\n",
       "    <tr>\n",
       "      <th>4</th>\n",
       "      <td>16701.398033</td>\n",
       "    </tr>\n",
       "  </tbody>\n",
       "</table>\n",
       "</div>"
      ],
      "text/plain": [
       "           Price\n",
       "ID              \n",
       "0   33090.508914\n",
       "1   76303.572981\n",
       "2   59899.545636\n",
       "3   49899.386315\n",
       "4   16701.398033"
      ]
     },
     "execution_count": 9,
     "metadata": {},
     "output_type": "execute_result"
    }
   ],
   "source": [
    "# Guardar predicciones en formato exigido en la competencia de kaggle\n",
    "y_pred.to_csv('test_submission.csv', index_label='ID')\n",
    "y_pred.head()"
   ]
  },
  {
   "cell_type": "code",
   "execution_count": 10,
   "metadata": {},
   "outputs": [
    {
     "data": {
      "text/html": [
       "<div>\n",
       "<style scoped>\n",
       "    .dataframe tbody tr th:only-of-type {\n",
       "        vertical-align: middle;\n",
       "    }\n",
       "\n",
       "    .dataframe tbody tr th {\n",
       "        vertical-align: top;\n",
       "    }\n",
       "\n",
       "    .dataframe thead th {\n",
       "        text-align: right;\n",
       "    }\n",
       "</style>\n",
       "<table border=\"1\" class=\"dataframe\">\n",
       "  <thead>\n",
       "    <tr style=\"text-align: right;\">\n",
       "      <th></th>\n",
       "      <th>Price</th>\n",
       "    </tr>\n",
       "    <tr>\n",
       "      <th>ID</th>\n",
       "      <th></th>\n",
       "    </tr>\n",
       "  </thead>\n",
       "  <tbody>\n",
       "    <tr>\n",
       "      <th>0</th>\n",
       "      <td>33090.508914</td>\n",
       "    </tr>\n",
       "    <tr>\n",
       "      <th>1</th>\n",
       "      <td>76303.572981</td>\n",
       "    </tr>\n",
       "    <tr>\n",
       "      <th>2</th>\n",
       "      <td>59899.545636</td>\n",
       "    </tr>\n",
       "    <tr>\n",
       "      <th>3</th>\n",
       "      <td>49899.386315</td>\n",
       "    </tr>\n",
       "    <tr>\n",
       "      <th>4</th>\n",
       "      <td>16701.398033</td>\n",
       "    </tr>\n",
       "  </tbody>\n",
       "</table>\n",
       "</div>"
      ],
      "text/plain": [
       "           Price\n",
       "ID              \n",
       "0   33090.508914\n",
       "1   76303.572981\n",
       "2   59899.545636\n",
       "3   49899.386315\n",
       "4   16701.398033"
      ]
     },
     "execution_count": 10,
     "metadata": {},
     "output_type": "execute_result"
    }
   ],
   "source": [
    "y_pred.to_csv('test_submission.csv', index_label='ID')\n",
    "y_pred.head()"
   ]
  },
  {
   "cell_type": "code",
   "execution_count": 11,
   "metadata": {},
   "outputs": [
    {
     "name": "stdout",
     "output_type": "stream",
     "text": [
      "<class 'pandas.core.frame.DataFrame'>\n",
      "RangeIndex: 400000 entries, 0 to 399999\n",
      "Data columns (total 6 columns):\n",
      " #   Column   Non-Null Count   Dtype \n",
      "---  ------   --------------   ----- \n",
      " 0   Price    400000 non-null  int64 \n",
      " 1   Year     400000 non-null  int64 \n",
      " 2   Mileage  400000 non-null  int64 \n",
      " 3   State    400000 non-null  object\n",
      " 4   Make     400000 non-null  object\n",
      " 5   Model    400000 non-null  object\n",
      "dtypes: int64(3), object(3)\n",
      "memory usage: 18.3+ MB\n"
     ]
    }
   ],
   "source": [
    "# Analisis preliminar\n",
    "dataTraining.info()"
   ]
  },
  {
   "cell_type": "code",
   "execution_count": 12,
   "metadata": {},
   "outputs": [],
   "source": [
    "cats = ['State','Make','Model']\n",
    "cont = ['Year','Mileage']\n",
    "totvars = cats+cont"
   ]
  },
  {
   "cell_type": "code",
   "execution_count": 13,
   "metadata": {},
   "outputs": [
    {
     "data": {
      "text/plain": [
       "400000"
      ]
     },
     "execution_count": 13,
     "metadata": {},
     "output_type": "execute_result"
    }
   ],
   "source": [
    "dataTraining.shape[0]"
   ]
  },
  {
   "cell_type": "code",
   "execution_count": 14,
   "metadata": {},
   "outputs": [
    {
     "name": "stdout",
     "output_type": "stream",
     "text": [
      "State: 51 Make: 38 Model: 525\n"
     ]
    }
   ],
   "source": [
    "print('State:',len(dataTraining['State'].unique()),\n",
    "      'Make:',len(dataTraining['Make'].unique()),\n",
    "      'Model:',len(dataTraining['Model'].unique())\n",
    ")"
   ]
  },
  {
   "cell_type": "code",
   "execution_count": 15,
   "metadata": {},
   "outputs": [
    {
     "data": {
      "text/plain": [
       "['1',\n",
       " '15002WD',\n",
       " '15004WD',\n",
       " '1500Laramie',\n",
       " '1500Tradesman',\n",
       " '200LX',\n",
       " '200Limited',\n",
       " '200S',\n",
       " '200Touring',\n",
       " '25002WD',\n",
       " '25004WD',\n",
       " '3',\n",
       " '300300C',\n",
       " '300300S',\n",
       " '3004dr',\n",
       " '300Base',\n",
       " '300Limited',\n",
       " '300Touring',\n",
       " '35004WD',\n",
       " '350Z2dr',\n",
       " '4Runner2WD',\n",
       " '4Runner4WD',\n",
       " '4Runner4dr',\n",
       " '4RunnerLimited',\n",
       " '4RunnerRWD',\n",
       " '4RunnerSR5',\n",
       " '4RunnerTrail',\n",
       " '5',\n",
       " '500Pop',\n",
       " '6',\n",
       " '7',\n",
       " '911',\n",
       " '9112dr',\n",
       " 'A34dr',\n",
       " 'A44dr',\n",
       " 'A64dr',\n",
       " 'A8',\n",
       " 'AcadiaAWD',\n",
       " 'AcadiaFWD',\n",
       " 'Accent4dr',\n",
       " 'Accord',\n",
       " 'AccordEX',\n",
       " 'AccordEX-L',\n",
       " 'AccordLX',\n",
       " 'AccordLX-S',\n",
       " 'AccordSE',\n",
       " 'Altima4dr',\n",
       " 'Armada2WD',\n",
       " 'Armada4WD',\n",
       " 'Avalanche2WD',\n",
       " 'Avalanche4WD',\n",
       " 'Avalon4dr',\n",
       " 'AvalonLimited',\n",
       " 'AvalonTouring',\n",
       " 'AvalonXLE',\n",
       " 'Azera4dr',\n",
       " 'Boxster2dr',\n",
       " 'C-Class4dr',\n",
       " 'C-ClassC',\n",
       " 'C-ClassC300',\n",
       " 'C-ClassC350',\n",
       " 'C702dr',\n",
       " 'CC4dr',\n",
       " 'CR-V2WD',\n",
       " 'CR-V4WD',\n",
       " 'CR-VEX',\n",
       " 'CR-VEX-L',\n",
       " 'CR-VLX',\n",
       " 'CR-VSE',\n",
       " 'CR-ZEX',\n",
       " 'CT',\n",
       " 'CTCT',\n",
       " 'CTS',\n",
       " 'CTS-V',\n",
       " 'CTS4dr',\n",
       " 'CX-7FWD',\n",
       " 'CX-9AWD',\n",
       " 'CX-9FWD',\n",
       " 'CX-9Grand',\n",
       " 'CX-9Touring',\n",
       " 'Caliber4dr',\n",
       " 'Camaro2dr',\n",
       " 'CamaroConvertible',\n",
       " 'CamaroCoupe',\n",
       " 'Camry',\n",
       " 'Camry4dr',\n",
       " 'CamryBase',\n",
       " 'CamryL',\n",
       " 'CamryLE',\n",
       " 'CamrySE',\n",
       " 'CamryXLE',\n",
       " 'Canyon2WD',\n",
       " 'Canyon4WD',\n",
       " 'CanyonCrew',\n",
       " 'CanyonExtended',\n",
       " 'CayenneAWD',\n",
       " 'Cayman2dr',\n",
       " 'Challenger2dr',\n",
       " 'ChallengerR/T',\n",
       " 'Charger4dr',\n",
       " 'ChargerSE',\n",
       " 'ChargerSXT',\n",
       " 'CherokeeLimited',\n",
       " 'CherokeeSport',\n",
       " 'Civic',\n",
       " 'CivicEX',\n",
       " 'CivicEX-L',\n",
       " 'CivicLX',\n",
       " 'CivicSi',\n",
       " 'Cobalt2dr',\n",
       " 'Cobalt4dr',\n",
       " 'Colorado2WD',\n",
       " 'Colorado4WD',\n",
       " 'ColoradoCrew',\n",
       " 'ColoradoExtended',\n",
       " 'Compass4WD',\n",
       " 'CompassLatitude',\n",
       " 'CompassLimited',\n",
       " 'CompassSport',\n",
       " 'Continental',\n",
       " 'Cooper',\n",
       " 'Corolla4dr',\n",
       " 'CorollaL',\n",
       " 'CorollaLE',\n",
       " 'CorollaS',\n",
       " 'Corvette2dr',\n",
       " 'CorvetteConvertible',\n",
       " 'CorvetteCoupe',\n",
       " 'CruzeLT',\n",
       " 'CruzeSedan',\n",
       " 'DTS4dr',\n",
       " 'Dakota2WD',\n",
       " 'Dakota4WD',\n",
       " 'Durango2WD',\n",
       " 'Durango4dr',\n",
       " 'DurangoAWD',\n",
       " 'DurangoSXT',\n",
       " 'E-ClassE',\n",
       " 'E-ClassE320',\n",
       " 'E-ClassE350',\n",
       " 'ES',\n",
       " 'ESES',\n",
       " 'Eclipse3dr',\n",
       " 'Econoline',\n",
       " 'EdgeLimited',\n",
       " 'EdgeSE',\n",
       " 'EdgeSEL',\n",
       " 'EdgeSport',\n",
       " 'Elantra',\n",
       " 'Elantra4dr',\n",
       " 'ElantraLimited',\n",
       " 'Element2WD',\n",
       " 'Element4WD',\n",
       " 'EnclaveConvenience',\n",
       " 'EnclaveLeather',\n",
       " 'EnclavePremium',\n",
       " 'Eos2dr',\n",
       " 'EquinoxAWD',\n",
       " 'EquinoxFWD',\n",
       " 'Escalade',\n",
       " 'Escalade2WD',\n",
       " 'Escalade4dr',\n",
       " 'EscaladeAWD',\n",
       " 'Escape4WD',\n",
       " 'Escape4dr',\n",
       " 'EscapeFWD',\n",
       " 'EscapeLImited',\n",
       " 'EscapeLimited',\n",
       " 'EscapeS',\n",
       " 'EscapeSE',\n",
       " 'EscapeXLT',\n",
       " 'Excursion137\"',\n",
       " 'Expedition',\n",
       " 'Expedition2WD',\n",
       " 'Expedition4WD',\n",
       " 'ExpeditionLimited',\n",
       " 'ExpeditionXLT',\n",
       " 'Explorer',\n",
       " 'Explorer4WD',\n",
       " 'Explorer4dr',\n",
       " 'ExplorerBase',\n",
       " 'ExplorerEddie',\n",
       " 'ExplorerFWD',\n",
       " 'ExplorerLimited',\n",
       " 'ExplorerXLT',\n",
       " 'Express',\n",
       " 'F-1502WD',\n",
       " 'F-1504WD',\n",
       " 'F-150FX2',\n",
       " 'F-150FX4',\n",
       " 'F-150King',\n",
       " 'F-150Lariat',\n",
       " 'F-150Limited',\n",
       " 'F-150Platinum',\n",
       " 'F-150STX',\n",
       " 'F-150SuperCrew',\n",
       " 'F-150XL',\n",
       " 'F-150XLT',\n",
       " 'F-250King',\n",
       " 'F-250Lariat',\n",
       " 'F-250XL',\n",
       " 'F-250XLT',\n",
       " 'F-350King',\n",
       " 'F-350Lariat',\n",
       " 'F-350XL',\n",
       " 'F-350XLT',\n",
       " 'FJ',\n",
       " 'FX35AWD',\n",
       " 'FiestaS',\n",
       " 'FiestaSE',\n",
       " 'FitSport',\n",
       " 'FlexLimited',\n",
       " 'FlexSE',\n",
       " 'FlexSEL',\n",
       " 'Focus4dr',\n",
       " 'Focus5dr',\n",
       " 'FocusS',\n",
       " 'FocusSE',\n",
       " 'FocusSEL',\n",
       " 'FocusST',\n",
       " 'FocusTitanium',\n",
       " 'Forester2.5X',\n",
       " 'Forester4dr',\n",
       " 'Forte',\n",
       " 'ForteEX',\n",
       " 'ForteLX',\n",
       " 'ForteSX',\n",
       " 'Frontier',\n",
       " 'Frontier2WD',\n",
       " 'Frontier4WD',\n",
       " 'Fusion4dr',\n",
       " 'FusionHybrid',\n",
       " 'FusionS',\n",
       " 'FusionSE',\n",
       " 'FusionSEL',\n",
       " 'G35',\n",
       " 'G37',\n",
       " 'G64dr',\n",
       " 'GLI4dr',\n",
       " 'GS',\n",
       " 'GSGS',\n",
       " 'GTI2dr',\n",
       " 'GTI4dr',\n",
       " 'GX',\n",
       " 'GXGX',\n",
       " 'Galant4dr',\n",
       " 'Genesis',\n",
       " 'Golf',\n",
       " 'Grand',\n",
       " 'Highlander',\n",
       " 'Highlander4WD',\n",
       " 'Highlander4dr',\n",
       " 'HighlanderBase',\n",
       " 'HighlanderFWD',\n",
       " 'HighlanderLimited',\n",
       " 'HighlanderSE',\n",
       " 'IS',\n",
       " 'ISIS',\n",
       " 'Impala4dr',\n",
       " 'ImpalaLS',\n",
       " 'ImpalaLT',\n",
       " 'Impreza',\n",
       " 'Impreza2.0i',\n",
       " 'ImprezaSport',\n",
       " 'Jetta',\n",
       " 'JourneyAWD',\n",
       " 'JourneyFWD',\n",
       " 'JourneySXT',\n",
       " 'LS',\n",
       " 'LSLS',\n",
       " 'LX',\n",
       " 'LXLX',\n",
       " 'LaCrosse4dr',\n",
       " 'LaCrosseAWD',\n",
       " 'LaCrosseFWD',\n",
       " 'Lancer4dr',\n",
       " 'Land',\n",
       " 'Legacy',\n",
       " 'Legacy2.5i',\n",
       " 'Legacy3.6R',\n",
       " 'Liberty4WD',\n",
       " 'LibertyLimited',\n",
       " 'LibertySport',\n",
       " 'Lucerne4dr',\n",
       " 'M-ClassML350',\n",
       " 'MDX4WD',\n",
       " 'MDXAWD',\n",
       " 'MKXAWD',\n",
       " 'MKXFWD',\n",
       " 'MKZ4dr',\n",
       " 'MX5',\n",
       " 'Malibu',\n",
       " 'Malibu1LT',\n",
       " 'Malibu4dr',\n",
       " 'MalibuLS',\n",
       " 'MalibuLT',\n",
       " 'Matrix5dr',\n",
       " 'Maxima4dr',\n",
       " 'Mazda34dr',\n",
       " 'Mazda35dr',\n",
       " 'Mazda64dr',\n",
       " 'Milan4dr',\n",
       " 'Model',\n",
       " 'Monte',\n",
       " 'Murano2WD',\n",
       " 'MuranoAWD',\n",
       " 'MuranoS',\n",
       " 'Mustang2dr',\n",
       " 'MustangBase',\n",
       " 'MustangDeluxe',\n",
       " 'MustangGT',\n",
       " 'MustangPremium',\n",
       " 'MustangShelby',\n",
       " 'Navigator',\n",
       " 'Navigator2WD',\n",
       " 'Navigator4WD',\n",
       " 'Navigator4dr',\n",
       " 'New',\n",
       " 'OdysseyEX',\n",
       " 'OdysseyEX-L',\n",
       " 'OdysseyLX',\n",
       " 'OdysseyTouring',\n",
       " 'Optima4dr',\n",
       " 'OptimaEX',\n",
       " 'OptimaLX',\n",
       " 'OptimaSX',\n",
       " 'Outback2.5i',\n",
       " 'Outback3.6R',\n",
       " 'Outlander',\n",
       " 'Outlander2WD',\n",
       " 'Outlander4WD',\n",
       " 'PT',\n",
       " 'PacificaLimited',\n",
       " 'PacificaTouring',\n",
       " 'Passat',\n",
       " 'Passat4dr',\n",
       " 'Pathfinder2WD',\n",
       " 'Pathfinder4WD',\n",
       " 'PathfinderS',\n",
       " 'PathfinderSE',\n",
       " 'Patriot4WD',\n",
       " 'PatriotLatitude',\n",
       " 'PatriotLimited',\n",
       " 'PatriotSport',\n",
       " 'Pilot2WD',\n",
       " 'Pilot4WD',\n",
       " 'PilotEX',\n",
       " 'PilotEX-L',\n",
       " 'PilotLX',\n",
       " 'PilotSE',\n",
       " 'PilotTouring',\n",
       " 'Prius',\n",
       " 'Prius5dr',\n",
       " 'PriusBase',\n",
       " 'PriusFive',\n",
       " 'PriusFour',\n",
       " 'PriusOne',\n",
       " 'PriusThree',\n",
       " 'PriusTwo',\n",
       " 'Q5quattro',\n",
       " 'Q7quattro',\n",
       " 'QX562WD',\n",
       " 'QX564WD',\n",
       " 'Quest4dr',\n",
       " 'RAV4',\n",
       " 'RAV44WD',\n",
       " 'RAV44dr',\n",
       " 'RAV4Base',\n",
       " 'RAV4FWD',\n",
       " 'RAV4LE',\n",
       " 'RAV4Limited',\n",
       " 'RAV4Sport',\n",
       " 'RAV4XLE',\n",
       " 'RDXAWD',\n",
       " 'RDXFWD',\n",
       " 'RX',\n",
       " 'RX-84dr',\n",
       " 'RXRX',\n",
       " 'Ram',\n",
       " 'Ranger2WD',\n",
       " 'Ranger4WD',\n",
       " 'RangerSuperCab',\n",
       " 'Regal4dr',\n",
       " 'RegalGS',\n",
       " 'RegalPremium',\n",
       " 'RegalTurbo',\n",
       " 'RidgelineRTL',\n",
       " 'RidgelineSport',\n",
       " 'RioLX',\n",
       " 'RogueFWD',\n",
       " 'Rover',\n",
       " 'S2000Manual',\n",
       " 'S44dr',\n",
       " 'S60T5',\n",
       " 'S804dr',\n",
       " 'SC',\n",
       " 'SL-ClassSL500',\n",
       " 'SLK-ClassSLK350',\n",
       " 'SRXLuxury',\n",
       " 'STS4dr',\n",
       " 'Santa',\n",
       " 'Savana',\n",
       " 'Sedona4dr',\n",
       " 'SedonaEX',\n",
       " 'SedonaLX',\n",
       " 'Sentra4dr',\n",
       " 'Sequoia4WD',\n",
       " 'Sequoia4dr',\n",
       " 'SequoiaLimited',\n",
       " 'SequoiaPlatinum',\n",
       " 'SequoiaSR5',\n",
       " 'Sienna5dr',\n",
       " 'SiennaLE',\n",
       " 'SiennaLimited',\n",
       " 'SiennaSE',\n",
       " 'SiennaXLE',\n",
       " 'Sierra',\n",
       " 'Silverado',\n",
       " 'Sonata4dr',\n",
       " 'SonataLimited',\n",
       " 'SonataSE',\n",
       " 'SonicHatch',\n",
       " 'SonicSedan',\n",
       " 'Sorento2WD',\n",
       " 'SorentoEX',\n",
       " 'SorentoLX',\n",
       " 'SorentoSX',\n",
       " 'Soul+',\n",
       " 'SoulBase',\n",
       " 'Sportage2WD',\n",
       " 'SportageAWD',\n",
       " 'SportageEX',\n",
       " 'SportageLX',\n",
       " 'SportageSX',\n",
       " 'Sprinter',\n",
       " 'Suburban2WD',\n",
       " 'Suburban4WD',\n",
       " 'Suburban4dr',\n",
       " 'Super',\n",
       " 'TL4dr',\n",
       " 'TLAutomatic',\n",
       " 'TSXAutomatic',\n",
       " 'TT2dr',\n",
       " 'Tacoma2WD',\n",
       " 'Tacoma4WD',\n",
       " 'TacomaBase',\n",
       " 'TacomaPreRunner',\n",
       " 'Tahoe2WD',\n",
       " 'Tahoe4WD',\n",
       " 'Tahoe4dr',\n",
       " 'TahoeLS',\n",
       " 'TahoeLT',\n",
       " 'Taurus4dr',\n",
       " 'TaurusLimited',\n",
       " 'TaurusSE',\n",
       " 'TaurusSEL',\n",
       " 'TaurusSHO',\n",
       " 'TerrainAWD',\n",
       " 'TerrainFWD',\n",
       " 'Tiguan2WD',\n",
       " 'TiguanS',\n",
       " 'TiguanSE',\n",
       " 'TiguanSEL',\n",
       " 'Titan',\n",
       " 'Titan2WD',\n",
       " 'Titan4WD',\n",
       " 'Touareg4dr',\n",
       " 'Town',\n",
       " 'Transit',\n",
       " 'TraverseAWD',\n",
       " 'TraverseFWD',\n",
       " 'TucsonAWD',\n",
       " 'TucsonFWD',\n",
       " 'TucsonLimited',\n",
       " 'Tundra',\n",
       " 'Tundra2WD',\n",
       " 'Tundra4WD',\n",
       " 'TundraBase',\n",
       " 'TundraLimited',\n",
       " 'TundraSR5',\n",
       " 'VeracruzAWD',\n",
       " 'VeracruzFWD',\n",
       " 'Versa4dr',\n",
       " 'Versa5dr',\n",
       " 'Vibe4dr',\n",
       " 'WRXBase',\n",
       " 'WRXLimited',\n",
       " 'WRXPremium',\n",
       " 'WRXSTI',\n",
       " 'Wrangler',\n",
       " 'Wrangler2dr',\n",
       " 'Wrangler4WD',\n",
       " 'WranglerRubicon',\n",
       " 'WranglerSahara',\n",
       " 'WranglerSport',\n",
       " 'WranglerX',\n",
       " 'X1xDrive28i',\n",
       " 'X3AWD',\n",
       " 'X3xDrive28i',\n",
       " 'X5AWD',\n",
       " 'X5xDrive35i',\n",
       " 'XC60AWD',\n",
       " 'XC60FWD',\n",
       " 'XC60T6',\n",
       " 'XC704dr',\n",
       " 'XC90AWD',\n",
       " 'XC90FWD',\n",
       " 'XC90T6',\n",
       " 'XF4dr',\n",
       " 'XJ4dr',\n",
       " 'XK2dr',\n",
       " 'Xterra2WD',\n",
       " 'Xterra4WD',\n",
       " 'Xterra4dr',\n",
       " 'Yaris',\n",
       " 'Yaris4dr',\n",
       " 'YarisBase',\n",
       " 'YarisLE',\n",
       " 'Yukon',\n",
       " 'Yukon2WD',\n",
       " 'Yukon4WD',\n",
       " 'Yukon4dr',\n",
       " 'tC2dr',\n",
       " 'xB5dr',\n",
       " 'xD5dr']"
      ]
     },
     "execution_count": 15,
     "metadata": {},
     "output_type": "execute_result"
    }
   ],
   "source": [
    "sorted(dataTraining['Model'].unique())"
   ]
  },
  {
   "cell_type": "code",
   "execution_count": 16,
   "metadata": {},
   "outputs": [],
   "source": [
    "counts = (dataTraining['Model'].value_counts()/dataTraining.shape[0])*100\n",
    "counts = pd.DataFrame(counts.copy()).reset_index()\n",
    "counts['sumacumulada'] = counts['count'].cumsum()\n",
    "sups =set(sorted(counts[counts['sumacumulada']>80]['Model'].unique()))"
   ]
  },
  {
   "cell_type": "code",
   "execution_count": 17,
   "metadata": {},
   "outputs": [
    {
     "data": {
      "text/plain": [
       "{'1',\n",
       " '15002WD',\n",
       " '1500Laramie',\n",
       " '1500Tradesman',\n",
       " '200LX',\n",
       " '200S',\n",
       " '200Touring',\n",
       " '25002WD',\n",
       " '300300S',\n",
       " '3004dr',\n",
       " '300Base',\n",
       " '300Limited',\n",
       " '300Touring',\n",
       " '35004WD',\n",
       " '350Z2dr',\n",
       " '4Runner2WD',\n",
       " '4Runner4dr',\n",
       " '4RunnerLimited',\n",
       " '4RunnerRWD',\n",
       " '4RunnerTrail',\n",
       " '500Pop',\n",
       " '6',\n",
       " '911',\n",
       " '9112dr',\n",
       " 'A34dr',\n",
       " 'A44dr',\n",
       " 'A64dr',\n",
       " 'A8',\n",
       " 'Accent4dr',\n",
       " 'AccordEX',\n",
       " 'AccordLX-S',\n",
       " 'AccordSE',\n",
       " 'Armada2WD',\n",
       " 'Armada4WD',\n",
       " 'Avalanche2WD',\n",
       " 'Avalanche4WD',\n",
       " 'Avalon4dr',\n",
       " 'AvalonLimited',\n",
       " 'AvalonTouring',\n",
       " 'Azera4dr',\n",
       " 'Boxster2dr',\n",
       " 'C-ClassC350',\n",
       " 'C702dr',\n",
       " 'CC4dr',\n",
       " 'CR-V2WD',\n",
       " 'CR-VSE',\n",
       " 'CR-ZEX',\n",
       " 'CT',\n",
       " 'CTCT',\n",
       " 'CTS-V',\n",
       " 'CTS4dr',\n",
       " 'CX-7FWD',\n",
       " 'CX-9AWD',\n",
       " 'CX-9FWD',\n",
       " 'CX-9Grand',\n",
       " 'CX-9Touring',\n",
       " 'Caliber4dr',\n",
       " 'CamryBase',\n",
       " 'CamryL',\n",
       " 'Canyon2WD',\n",
       " 'Canyon4WD',\n",
       " 'CanyonCrew',\n",
       " 'CanyonExtended',\n",
       " 'CayenneAWD',\n",
       " 'Cayman2dr',\n",
       " 'CherokeeSport',\n",
       " 'CivicEX-L',\n",
       " 'CivicSi',\n",
       " 'Cobalt2dr',\n",
       " 'Cobalt4dr',\n",
       " 'Colorado2WD',\n",
       " 'Colorado4WD',\n",
       " 'ColoradoExtended',\n",
       " 'Compass4WD',\n",
       " 'CompassLimited',\n",
       " 'Continental',\n",
       " 'CorvetteConvertible',\n",
       " 'CorvetteCoupe',\n",
       " 'CruzeLT',\n",
       " 'DTS4dr',\n",
       " 'Dakota2WD',\n",
       " 'Dakota4WD',\n",
       " 'Durango2WD',\n",
       " 'Durango4dr',\n",
       " 'DurangoSXT',\n",
       " 'E-ClassE',\n",
       " 'E-ClassE320',\n",
       " 'Eclipse3dr',\n",
       " 'EdgeSE',\n",
       " 'EdgeSport',\n",
       " 'Element2WD',\n",
       " 'Element4WD',\n",
       " 'EnclaveConvenience',\n",
       " 'EnclavePremium',\n",
       " 'Eos2dr',\n",
       " 'Escalade2WD',\n",
       " 'Escalade4dr',\n",
       " 'EscaladeAWD',\n",
       " 'Escape4dr',\n",
       " 'EscapeLImited',\n",
       " 'EscapeLimited',\n",
       " 'EscapeS',\n",
       " 'EscapeXLT',\n",
       " 'Excursion137\"',\n",
       " 'Expedition2WD',\n",
       " 'Expedition4WD',\n",
       " 'ExpeditionLimited',\n",
       " 'ExpeditionXLT',\n",
       " 'Explorer',\n",
       " 'Explorer4dr',\n",
       " 'ExplorerBase',\n",
       " 'ExplorerEddie',\n",
       " 'F-150FX2',\n",
       " 'F-150FX4',\n",
       " 'F-150King',\n",
       " 'F-150Limited',\n",
       " 'F-150Platinum',\n",
       " 'F-150STX',\n",
       " 'F-250King',\n",
       " 'F-250Lariat',\n",
       " 'F-250XL',\n",
       " 'F-250XLT',\n",
       " 'F-350King',\n",
       " 'F-350Lariat',\n",
       " 'F-350XL',\n",
       " 'F-350XLT',\n",
       " 'FX35AWD',\n",
       " 'FiestaS',\n",
       " 'FiestaSE',\n",
       " 'FitSport',\n",
       " 'FlexLimited',\n",
       " 'FlexSE',\n",
       " 'FlexSEL',\n",
       " 'Focus4dr',\n",
       " 'Focus5dr',\n",
       " 'FocusS',\n",
       " 'FocusSEL',\n",
       " 'FocusST',\n",
       " 'FocusTitanium',\n",
       " 'Forester2.5X',\n",
       " 'Forester4dr',\n",
       " 'Forte',\n",
       " 'ForteEX',\n",
       " 'ForteSX',\n",
       " 'Frontier',\n",
       " 'Frontier2WD',\n",
       " 'Frontier4WD',\n",
       " 'FusionS',\n",
       " 'FusionSEL',\n",
       " 'G35',\n",
       " 'G64dr',\n",
       " 'GLI4dr',\n",
       " 'GSGS',\n",
       " 'GTI2dr',\n",
       " 'GTI4dr',\n",
       " 'GXGX',\n",
       " 'Galant4dr',\n",
       " 'Genesis',\n",
       " 'Highlander',\n",
       " 'Highlander4WD',\n",
       " 'Highlander4dr',\n",
       " 'HighlanderBase',\n",
       " 'HighlanderLimited',\n",
       " 'HighlanderSE',\n",
       " 'ImpalaLS',\n",
       " 'Impreza2.0i',\n",
       " 'ImprezaSport',\n",
       " 'JourneyAWD',\n",
       " 'LS',\n",
       " 'LSLS',\n",
       " 'LX',\n",
       " 'LXLX',\n",
       " 'LaCrosse4dr',\n",
       " 'LaCrosseAWD',\n",
       " 'Lancer4dr',\n",
       " 'Land',\n",
       " 'Legacy',\n",
       " 'Legacy3.6R',\n",
       " 'Liberty4WD',\n",
       " 'LibertyLimited',\n",
       " 'LibertySport',\n",
       " 'Lucerne4dr',\n",
       " 'MDX4WD',\n",
       " 'MKXAWD',\n",
       " 'MKXFWD',\n",
       " 'MKZ4dr',\n",
       " 'MX5',\n",
       " 'Matrix5dr',\n",
       " 'Mazda34dr',\n",
       " 'Mazda35dr',\n",
       " 'Mazda64dr',\n",
       " 'Milan4dr',\n",
       " 'Model',\n",
       " 'Monte',\n",
       " 'MuranoS',\n",
       " 'MustangBase',\n",
       " 'MustangDeluxe',\n",
       " 'MustangPremium',\n",
       " 'MustangShelby',\n",
       " 'Navigator',\n",
       " 'Navigator2WD',\n",
       " 'Navigator4WD',\n",
       " 'Navigator4dr',\n",
       " 'New',\n",
       " 'OdysseyEX',\n",
       " 'OdysseyLX',\n",
       " 'Optima4dr',\n",
       " 'OptimaSX',\n",
       " 'Outback3.6R',\n",
       " 'Outlander2WD',\n",
       " 'Outlander4WD',\n",
       " 'PT',\n",
       " 'PacificaLimited',\n",
       " 'PacificaTouring',\n",
       " 'Passat',\n",
       " 'Pathfinder2WD',\n",
       " 'PathfinderS',\n",
       " 'PathfinderSE',\n",
       " 'Patriot4WD',\n",
       " 'PatriotLimited',\n",
       " 'Pilot2WD',\n",
       " 'PilotEX',\n",
       " 'PilotLX',\n",
       " 'PilotSE',\n",
       " 'PilotTouring',\n",
       " 'PriusBase',\n",
       " 'PriusFive',\n",
       " 'PriusFour',\n",
       " 'PriusOne',\n",
       " 'PriusThree',\n",
       " 'Q5quattro',\n",
       " 'Q7quattro',\n",
       " 'QX562WD',\n",
       " 'QX564WD',\n",
       " 'Quest4dr',\n",
       " 'RAV4',\n",
       " 'RAV44dr',\n",
       " 'RAV4Base',\n",
       " 'RAV4FWD',\n",
       " 'RAV4Sport',\n",
       " 'RDXAWD',\n",
       " 'RDXFWD',\n",
       " 'RX-84dr',\n",
       " 'Ranger2WD',\n",
       " 'Ranger4WD',\n",
       " 'RangerSuperCab',\n",
       " 'Regal4dr',\n",
       " 'RegalGS',\n",
       " 'RegalPremium',\n",
       " 'RegalTurbo',\n",
       " 'RidgelineRTL',\n",
       " 'RidgelineSport',\n",
       " 'RioLX',\n",
       " 'RogueFWD',\n",
       " 'S2000Manual',\n",
       " 'S44dr',\n",
       " 'S60T5',\n",
       " 'S804dr',\n",
       " 'SC',\n",
       " 'SL-ClassSL500',\n",
       " 'SLK-ClassSLK350',\n",
       " 'STS4dr',\n",
       " 'Savana',\n",
       " 'Sedona4dr',\n",
       " 'SedonaEX',\n",
       " 'Sentra4dr',\n",
       " 'Sequoia4WD',\n",
       " 'Sequoia4dr',\n",
       " 'SequoiaLimited',\n",
       " 'SequoiaPlatinum',\n",
       " 'SequoiaSR5',\n",
       " 'SiennaLE',\n",
       " 'SiennaLimited',\n",
       " 'SiennaSE',\n",
       " 'SonicHatch',\n",
       " 'Sorento2WD',\n",
       " 'SorentoEX',\n",
       " 'SorentoSX',\n",
       " 'SoulBase',\n",
       " 'Sportage2WD',\n",
       " 'SportageAWD',\n",
       " 'SportageEX',\n",
       " 'SportageSX',\n",
       " 'Sprinter',\n",
       " 'Suburban4dr',\n",
       " 'TL4dr',\n",
       " 'TLAutomatic',\n",
       " 'TSXAutomatic',\n",
       " 'TT2dr',\n",
       " 'TacomaPreRunner',\n",
       " 'Tahoe4dr',\n",
       " 'TahoeLS',\n",
       " 'Taurus4dr',\n",
       " 'TaurusLimited',\n",
       " 'TaurusSE',\n",
       " 'TaurusSHO',\n",
       " 'Tiguan2WD',\n",
       " 'TiguanS',\n",
       " 'TiguanSE',\n",
       " 'TiguanSEL',\n",
       " 'Titan',\n",
       " 'Titan2WD',\n",
       " 'Titan4WD',\n",
       " 'Touareg4dr',\n",
       " 'TucsonAWD',\n",
       " 'TucsonLimited',\n",
       " 'Tundra2WD',\n",
       " 'Tundra4WD',\n",
       " 'TundraBase',\n",
       " 'TundraLimited',\n",
       " 'VeracruzAWD',\n",
       " 'VeracruzFWD',\n",
       " 'Versa4dr',\n",
       " 'Versa5dr',\n",
       " 'Vibe4dr',\n",
       " 'WRXBase',\n",
       " 'WRXLimited',\n",
       " 'WRXPremium',\n",
       " 'WRXSTI',\n",
       " 'Wrangler2dr',\n",
       " 'WranglerRubicon',\n",
       " 'WranglerSahara',\n",
       " 'WranglerX',\n",
       " 'X1xDrive28i',\n",
       " 'X3AWD',\n",
       " 'XC60AWD',\n",
       " 'XC60FWD',\n",
       " 'XC60T6',\n",
       " 'XC704dr',\n",
       " 'XC90AWD',\n",
       " 'XC90FWD',\n",
       " 'XC90T6',\n",
       " 'XF4dr',\n",
       " 'XJ4dr',\n",
       " 'XK2dr',\n",
       " 'Xterra2WD',\n",
       " 'Xterra4WD',\n",
       " 'Xterra4dr',\n",
       " 'Yaris',\n",
       " 'Yaris4dr',\n",
       " 'YarisBase',\n",
       " 'YarisLE',\n",
       " 'Yukon4dr',\n",
       " 'tC2dr',\n",
       " 'xB5dr',\n",
       " 'xD5dr'}"
      ]
     },
     "execution_count": 17,
     "metadata": {},
     "output_type": "execute_result"
    }
   ],
   "source": [
    "sups"
   ]
  },
  {
   "cell_type": "code",
   "execution_count": 18,
   "metadata": {},
   "outputs": [
    {
     "name": "stdout",
     "output_type": "stream",
     "text": [
      "State : 20\n",
      "Make : 11\n",
      "Model : 179\n"
     ]
    }
   ],
   "source": [
    "for cat in cats:\n",
    "    counts = (dataTraining[cat].value_counts()/dataTraining.shape[0])*100\n",
    "    counts = pd.DataFrame(counts.copy()).reset_index()\n",
    "    counts['sumacumulada'] = counts['count'].cumsum()\n",
    "    conteo_cate = len(counts[counts['sumacumulada']<=80])\n",
    "    print(cat,':',conteo_cate)\n",
    "    "
   ]
  },
  {
   "cell_type": "code",
   "execution_count": 19,
   "metadata": {},
   "outputs": [
    {
     "name": "stdout",
     "output_type": "stream",
     "text": [
      "Requirement already satisfied: scikit-learn in c:\\users\\asus\\appdata\\local\\packages\\pythonsoftwarefoundation.python.3.9_qbz5n2kfra8p0\\localcache\\local-packages\\python39\\site-packages (1.4.2)\n",
      "Requirement already satisfied: joblib>=1.2.0 in c:\\users\\asus\\appdata\\local\\packages\\pythonsoftwarefoundation.python.3.9_qbz5n2kfra8p0\\localcache\\local-packages\\python39\\site-packages (from scikit-learn) (1.4.0)\n",
      "Requirement already satisfied: threadpoolctl>=2.0.0 in c:\\users\\asus\\appdata\\local\\packages\\pythonsoftwarefoundation.python.3.9_qbz5n2kfra8p0\\localcache\\local-packages\\python39\\site-packages (from scikit-learn) (3.4.0)\n",
      "Requirement already satisfied: scipy>=1.6.0 in c:\\users\\asus\\appdata\\local\\packages\\pythonsoftwarefoundation.python.3.9_qbz5n2kfra8p0\\localcache\\local-packages\\python39\\site-packages (from scikit-learn) (1.13.0)\n",
      "Requirement already satisfied: numpy>=1.19.5 in c:\\users\\asus\\appdata\\local\\packages\\pythonsoftwarefoundation.python.3.9_qbz5n2kfra8p0\\localcache\\local-packages\\python39\\site-packages (from scikit-learn) (1.26.4)\n"
     ]
    },
    {
     "name": "stderr",
     "output_type": "stream",
     "text": [
      "WARNING: You are using pip version 22.0.4; however, version 24.0 is available.\n",
      "You should consider upgrading via the 'C:\\Users\\Asus\\AppData\\Local\\Microsoft\\WindowsApps\\PythonSoftwareFoundation.Python.3.9_qbz5n2kfra8p0\\python.exe -m pip install --upgrade pip' command.\n"
     ]
    }
   ],
   "source": [
    "!pip install scikit-learn"
   ]
  },
  {
   "cell_type": "code",
   "execution_count": 20,
   "metadata": {},
   "outputs": [
    {
     "name": "stdout",
     "output_type": "stream",
     "text": [
      "Información mutua: State 0.8498630617280598\n",
      "Información mutua: Make 0.6612504268074006\n",
      "Información mutua: Model 2.134555572347259\n"
     ]
    }
   ],
   "source": [
    "from sklearn.metrics import mutual_info_score\n",
    "\n",
    "# Suponiendo que tienes dos arrays o listas que representan las dos variables\n",
    "\n",
    "# Calcular la información mutua entre las dos variables\n",
    "for cat in cats:\n",
    "    mutual_information = mutual_info_score(dataTraining['Price'],dataTraining[cat])\n",
    "\n",
    "    print(\"Información mutua:\",cat, mutual_information)\n"
   ]
  },
  {
   "cell_type": "code",
   "execution_count": 21,
   "metadata": {},
   "outputs": [
    {
     "name": "stdout",
     "output_type": "stream",
     "text": [
      "Información mutua: State 0.8498630617280598\n",
      "Información mutua: Make 0.6612504268074006\n",
      "Información mutua: Model 2.134555572347259\n",
      "Información mutua: Year 0.5901766007118817\n",
      "Información mutua: Mileage 7.205669024297045\n"
     ]
    }
   ],
   "source": [
    "for var in totvars:\n",
    "    mutual_information = mutual_info_score(dataTraining['Price'],dataTraining[var])\n",
    "\n",
    "    print(\"Información mutua:\",var, mutual_information)"
   ]
  },
  {
   "cell_type": "code",
   "execution_count": 22,
   "metadata": {},
   "outputs": [],
   "source": [
    "count = (dataTraining['State'].value_counts()/dataTraining.shape[0])*100\n",
    "counts = pd.DataFrame(counts.copy()).reset_index()\n",
    "\n",
    "counts['sumacumulada'] = counts['count'].cumsum()"
   ]
  },
  {
   "cell_type": "code",
   "execution_count": 23,
   "metadata": {},
   "outputs": [
    {
     "data": {
      "text/html": [
       "<div>\n",
       "<style scoped>\n",
       "    .dataframe tbody tr th:only-of-type {\n",
       "        vertical-align: middle;\n",
       "    }\n",
       "\n",
       "    .dataframe tbody tr th {\n",
       "        vertical-align: top;\n",
       "    }\n",
       "\n",
       "    .dataframe thead th {\n",
       "        text-align: right;\n",
       "    }\n",
       "</style>\n",
       "<table border=\"1\" class=\"dataframe\">\n",
       "  <thead>\n",
       "    <tr style=\"text-align: right;\">\n",
       "      <th></th>\n",
       "      <th>index</th>\n",
       "      <th>Model</th>\n",
       "      <th>count</th>\n",
       "      <th>sumacumulada</th>\n",
       "    </tr>\n",
       "  </thead>\n",
       "  <tbody>\n",
       "    <tr>\n",
       "      <th>0</th>\n",
       "      <td>0</td>\n",
       "      <td>Silverado</td>\n",
       "      <td>4.52125</td>\n",
       "      <td>4.52125</td>\n",
       "    </tr>\n",
       "    <tr>\n",
       "      <th>1</th>\n",
       "      <td>1</td>\n",
       "      <td>Grand</td>\n",
       "      <td>3.08600</td>\n",
       "      <td>7.60725</td>\n",
       "    </tr>\n",
       "    <tr>\n",
       "      <th>2</th>\n",
       "      <td>2</td>\n",
       "      <td>Sierra</td>\n",
       "      <td>2.10225</td>\n",
       "      <td>9.70950</td>\n",
       "    </tr>\n",
       "    <tr>\n",
       "      <th>3</th>\n",
       "      <td>3</td>\n",
       "      <td>Accord</td>\n",
       "      <td>1.83925</td>\n",
       "      <td>11.54875</td>\n",
       "    </tr>\n",
       "    <tr>\n",
       "      <th>4</th>\n",
       "      <td>4</td>\n",
       "      <td>F-1504WD</td>\n",
       "      <td>1.67100</td>\n",
       "      <td>13.21975</td>\n",
       "    </tr>\n",
       "    <tr>\n",
       "      <th>...</th>\n",
       "      <td>...</td>\n",
       "      <td>...</td>\n",
       "      <td>...</td>\n",
       "      <td>...</td>\n",
       "    </tr>\n",
       "    <tr>\n",
       "      <th>174</th>\n",
       "      <td>174</td>\n",
       "      <td>Econoline</td>\n",
       "      <td>0.15050</td>\n",
       "      <td>79.35900</td>\n",
       "    </tr>\n",
       "    <tr>\n",
       "      <th>175</th>\n",
       "      <td>175</td>\n",
       "      <td>X5AWD</td>\n",
       "      <td>0.15025</td>\n",
       "      <td>79.50925</td>\n",
       "    </tr>\n",
       "    <tr>\n",
       "      <th>176</th>\n",
       "      <td>176</td>\n",
       "      <td>Camry</td>\n",
       "      <td>0.14775</td>\n",
       "      <td>79.65700</td>\n",
       "    </tr>\n",
       "    <tr>\n",
       "      <th>177</th>\n",
       "      <td>177</td>\n",
       "      <td>RAV44WD</td>\n",
       "      <td>0.14725</td>\n",
       "      <td>79.80425</td>\n",
       "    </tr>\n",
       "    <tr>\n",
       "      <th>178</th>\n",
       "      <td>178</td>\n",
       "      <td>FJ</td>\n",
       "      <td>0.14700</td>\n",
       "      <td>79.95125</td>\n",
       "    </tr>\n",
       "  </tbody>\n",
       "</table>\n",
       "<p>179 rows × 4 columns</p>\n",
       "</div>"
      ],
      "text/plain": [
       "     index      Model    count  sumacumulada\n",
       "0        0  Silverado  4.52125       4.52125\n",
       "1        1      Grand  3.08600       7.60725\n",
       "2        2     Sierra  2.10225       9.70950\n",
       "3        3     Accord  1.83925      11.54875\n",
       "4        4   F-1504WD  1.67100      13.21975\n",
       "..     ...        ...      ...           ...\n",
       "174    174  Econoline  0.15050      79.35900\n",
       "175    175      X5AWD  0.15025      79.50925\n",
       "176    176      Camry  0.14775      79.65700\n",
       "177    177    RAV44WD  0.14725      79.80425\n",
       "178    178         FJ  0.14700      79.95125\n",
       "\n",
       "[179 rows x 4 columns]"
      ]
     },
     "execution_count": 23,
     "metadata": {},
     "output_type": "execute_result"
    }
   ],
   "source": [
    "counts[counts['sumacumulada']<=80]"
   ]
  },
  {
   "cell_type": "code",
   "execution_count": 24,
   "metadata": {},
   "outputs": [
    {
     "name": "stderr",
     "output_type": "stream",
     "text": [
      "WARNING: You are using pip version 22.0.4; however, version 24.0 is available.\n",
      "You should consider upgrading via the 'C:\\Users\\Asus\\AppData\\Local\\Microsoft\\WindowsApps\\PythonSoftwareFoundation.Python.3.9_qbz5n2kfra8p0\\python.exe -m pip install --upgrade pip' command.\n"
     ]
    },
    {
     "name": "stdout",
     "output_type": "stream",
     "text": [
      "Requirement already satisfied: matplotlib in c:\\users\\asus\\appdata\\local\\packages\\pythonsoftwarefoundation.python.3.9_qbz5n2kfra8p0\\localcache\\local-packages\\python39\\site-packages (3.8.4)\n",
      "Requirement already satisfied: numpy>=1.21 in c:\\users\\asus\\appdata\\local\\packages\\pythonsoftwarefoundation.python.3.9_qbz5n2kfra8p0\\localcache\\local-packages\\python39\\site-packages (from matplotlib) (1.26.4)\n",
      "Requirement already satisfied: kiwisolver>=1.3.1 in c:\\users\\asus\\appdata\\local\\packages\\pythonsoftwarefoundation.python.3.9_qbz5n2kfra8p0\\localcache\\local-packages\\python39\\site-packages (from matplotlib) (1.4.5)\n",
      "Requirement already satisfied: importlib-resources>=3.2.0 in c:\\users\\asus\\appdata\\local\\packages\\pythonsoftwarefoundation.python.3.9_qbz5n2kfra8p0\\localcache\\local-packages\\python39\\site-packages (from matplotlib) (6.4.0)\n",
      "Requirement already satisfied: fonttools>=4.22.0 in c:\\users\\asus\\appdata\\local\\packages\\pythonsoftwarefoundation.python.3.9_qbz5n2kfra8p0\\localcache\\local-packages\\python39\\site-packages (from matplotlib) (4.51.0)\n",
      "Requirement already satisfied: packaging>=20.0 in c:\\users\\asus\\appdata\\local\\packages\\pythonsoftwarefoundation.python.3.9_qbz5n2kfra8p0\\localcache\\local-packages\\python39\\site-packages (from matplotlib) (24.0)\n",
      "Requirement already satisfied: contourpy>=1.0.1 in c:\\users\\asus\\appdata\\local\\packages\\pythonsoftwarefoundation.python.3.9_qbz5n2kfra8p0\\localcache\\local-packages\\python39\\site-packages (from matplotlib) (1.2.1)\n",
      "Requirement already satisfied: python-dateutil>=2.7 in c:\\users\\asus\\appdata\\local\\packages\\pythonsoftwarefoundation.python.3.9_qbz5n2kfra8p0\\localcache\\local-packages\\python39\\site-packages (from matplotlib) (2.9.0.post0)\n",
      "Requirement already satisfied: cycler>=0.10 in c:\\users\\asus\\appdata\\local\\packages\\pythonsoftwarefoundation.python.3.9_qbz5n2kfra8p0\\localcache\\local-packages\\python39\\site-packages (from matplotlib) (0.12.1)\n",
      "Requirement already satisfied: pillow>=8 in c:\\users\\asus\\appdata\\local\\packages\\pythonsoftwarefoundation.python.3.9_qbz5n2kfra8p0\\localcache\\local-packages\\python39\\site-packages (from matplotlib) (10.3.0)\n",
      "Requirement already satisfied: pyparsing>=2.3.1 in c:\\users\\asus\\appdata\\local\\packages\\pythonsoftwarefoundation.python.3.9_qbz5n2kfra8p0\\localcache\\local-packages\\python39\\site-packages (from matplotlib) (3.1.2)\n",
      "Requirement already satisfied: zipp>=3.1.0 in c:\\users\\asus\\appdata\\local\\packages\\pythonsoftwarefoundation.python.3.9_qbz5n2kfra8p0\\localcache\\local-packages\\python39\\site-packages (from importlib-resources>=3.2.0->matplotlib) (3.18.1)\n",
      "Requirement already satisfied: six>=1.5 in c:\\users\\asus\\appdata\\local\\packages\\pythonsoftwarefoundation.python.3.9_qbz5n2kfra8p0\\localcache\\local-packages\\python39\\site-packages (from python-dateutil>=2.7->matplotlib) (1.16.0)\n"
     ]
    }
   ],
   "source": [
    "!pip install matplotlib\n",
    "import matplotlib.pyplot as plt"
   ]
  },
  {
   "cell_type": "code",
   "execution_count": 25,
   "metadata": {},
   "outputs": [
    {
     "data": {
      "text/plain": [
       "<function matplotlib.pyplot.tight_layout(*, pad: 'float' = 1.08, h_pad: 'float | None' = None, w_pad: 'float | None' = None, rect: 'tuple[float, float, float, float] | None' = None) -> 'None'>"
      ]
     },
     "execution_count": 25,
     "metadata": {},
     "output_type": "execute_result"
    },
    {
     "data": {
      "image/png": "[encoded data removed]",
      "text/plain": [
       "<Figure size 640x480 with 1 Axes>"
      ]
     },
     "metadata": {},
     "output_type": "display_data"
    }
   ],
   "source": [
    "plt.bar(dataTraining['State'].value_counts().index,dataTraining['State'].value_counts())\n",
    "plt.tight_layout"
   ]
  },
  {
   "cell_type": "code",
   "execution_count": 26,
   "metadata": {},
   "outputs": [
    {
     "name": "stdout",
     "output_type": "stream",
     "text": [
      "Requirement already satisfied: seaborn in c:\\users\\asus\\appdata\\local\\packages\\pythonsoftwarefoundation.python.3.9_qbz5n2kfra8p0\\localcache\\local-packages\\python39\\site-packages (0.13.2)\n",
      "Requirement already satisfied: numpy!=1.24.0,>=1.20 in c:\\users\\asus\\appdata\\local\\packages\\pythonsoftwarefoundation.python.3.9_qbz5n2kfra8p0\\localcache\\local-packages\\python39\\site-packages (from seaborn) (1.26.4)\n",
      "Requirement already satisfied: pandas>=1.2 in c:\\users\\asus\\appdata\\local\\packages\\pythonsoftwarefoundation.python.3.9_qbz5n2kfra8p0\\localcache\\local-packages\\python39\\site-packages (from seaborn) (2.2.2)\n",
      "Requirement already satisfied: matplotlib!=3.6.1,>=3.4 in c:\\users\\asus\\appdata\\local\\packages\\pythonsoftwarefoundation.python.3.9_qbz5n2kfra8p0\\localcache\\local-packages\\python39\\site-packages (from seaborn) (3.8.4)\n",
      "Requirement already satisfied: cycler>=0.10 in c:\\users\\asus\\appdata\\local\\packages\\pythonsoftwarefoundation.python.3.9_qbz5n2kfra8p0\\localcache\\local-packages\\python39\\site-packages (from matplotlib!=3.6.1,>=3.4->seaborn) (0.12.1)\n",
      "Requirement already satisfied: kiwisolver>=1.3.1 in c:\\users\\asus\\appdata\\local\\packages\\pythonsoftwarefoundation.python.3.9_qbz5n2kfra8p0\\localcache\\local-packages\\python39\\site-packages (from matplotlib!=3.6.1,>=3.4->seaborn) (1.4.5)\n",
      "Requirement already satisfied: contourpy>=1.0.1 in c:\\users\\asus\\appdata\\local\\packages\\pythonsoftwarefoundation.python.3.9_qbz5n2kfra8p0\\localcache\\local-packages\\python39\\site-packages (from matplotlib!=3.6.1,>=3.4->seaborn) (1.2.1)\n",
      "Requirement already satisfied: fonttools>=4.22.0 in c:\\users\\asus\\appdata\\local\\packages\\pythonsoftwarefoundation.python.3.9_qbz5n2kfra8p0\\localcache\\local-packages\\python39\\site-packages (from matplotlib!=3.6.1,>=3.4->seaborn) (4.51.0)\n",
      "Requirement already satisfied: packaging>=20.0 in c:\\users\\asus\\appdata\\local\\packages\\pythonsoftwarefoundation.python.3.9_qbz5n2kfra8p0\\localcache\\local-packages\\python39\\site-packages (from matplotlib!=3.6.1,>=3.4->seaborn) (24.0)\n",
      "Requirement already satisfied: importlib-resources>=3.2.0 in c:\\users\\asus\\appdata\\local\\packages\\pythonsoftwarefoundation.python.3.9_qbz5n2kfra8p0\\localcache\\local-packages\\python39\\site-packages (from matplotlib!=3.6.1,>=3.4->seaborn) (6.4.0)\n",
      "Requirement already satisfied: pillow>=8 in c:\\users\\asus\\appdata\\local\\packages\\pythonsoftwarefoundation.python.3.9_qbz5n2kfra8p0\\localcache\\local-packages\\python39\\site-packages (from matplotlib!=3.6.1,>=3.4->seaborn) (10.3.0)\n",
      "Requirement already satisfied: pyparsing>=2.3.1 in c:\\users\\asus\\appdata\\local\\packages\\pythonsoftwarefoundation.python.3.9_qbz5n2kfra8p0\\localcache\\local-packages\\python39\\site-packages (from matplotlib!=3.6.1,>=3.4->seaborn) (3.1.2)\n",
      "Requirement already satisfied: python-dateutil>=2.7 in c:\\users\\asus\\appdata\\local\\packages\\pythonsoftwarefoundation.python.3.9_qbz5n2kfra8p0\\localcache\\local-packages\\python39\\site-packages (from matplotlib!=3.6.1,>=3.4->seaborn) (2.9.0.post0)\n",
      "Requirement already satisfied: tzdata>=2022.7 in c:\\users\\asus\\appdata\\local\\packages\\pythonsoftwarefoundation.python.3.9_qbz5n2kfra8p0\\localcache\\local-packages\\python39\\site-packages (from pandas>=1.2->seaborn) (2024.1)\n",
      "Requirement already satisfied: pytz>=2020.1 in c:\\users\\asus\\appdata\\local\\packages\\pythonsoftwarefoundation.python.3.9_qbz5n2kfra8p0\\localcache\\local-packages\\python39\\site-packages (from pandas>=1.2->seaborn) (2024.1)\n",
      "Requirement already satisfied: zipp>=3.1.0 in c:\\users\\asus\\appdata\\local\\packages\\pythonsoftwarefoundation.python.3.9_qbz5n2kfra8p0\\localcache\\local-packages\\python39\\site-packages (from importlib-resources>=3.2.0->matplotlib!=3.6.1,>=3.4->seaborn) (3.18.1)\n",
      "Requirement already satisfied: six>=1.5 in c:\\users\\asus\\appdata\\local\\packages\\pythonsoftwarefoundation.python.3.9_qbz5n2kfra8p0\\localcache\\local-packages\\python39\\site-packages (from python-dateutil>=2.7->matplotlib!=3.6.1,>=3.4->seaborn) (1.16.0)\n"
     ]
    },
    {
     "name": "stderr",
     "output_type": "stream",
     "text": [
      "WARNING: You are using pip version 22.0.4; however, version 24.0 is available.\n",
      "You should consider upgrading via the 'C:\\Users\\Asus\\AppData\\Local\\Microsoft\\WindowsApps\\PythonSoftwareFoundation.Python.3.9_qbz5n2kfra8p0\\python.exe -m pip install --upgrade pip' command.\n"
     ]
    }
   ],
   "source": [
    "!pip install seaborn"
   ]
  },
  {
   "cell_type": "code",
   "execution_count": 27,
   "metadata": {},
   "outputs": [
    {
     "data": {
      "text/plain": [
       "<seaborn.axisgrid.PairGrid at 0x24489967b20>"
      ]
     },
     "execution_count": 27,
     "metadata": {},
     "output_type": "execute_result"
    },
    {
     "data": {
      "image/png": "[encoded data removed]",
      "text/plain": [
       "<Figure size 750x750 with 12 Axes>"
      ]
     },
     "metadata": {},
     "output_type": "display_data"
    }
   ],
   "source": [
    "import seaborn as sns\n",
    "sns.pairplot(dataTraining)"
   ]
  },
  {
   "cell_type": "code",
   "execution_count": 28,
   "metadata": {},
   "outputs": [
    {
     "data": {
      "text/html": [
       "<div>\n",
       "<style scoped>\n",
       "    .dataframe tbody tr th:only-of-type {\n",
       "        vertical-align: middle;\n",
       "    }\n",
       "\n",
       "    .dataframe tbody tr th {\n",
       "        vertical-align: top;\n",
       "    }\n",
       "\n",
       "    .dataframe thead th {\n",
       "        text-align: right;\n",
       "    }\n",
       "</style>\n",
       "<table border=\"1\" class=\"dataframe\">\n",
       "  <thead>\n",
       "    <tr style=\"text-align: right;\">\n",
       "      <th></th>\n",
       "      <th>Price</th>\n",
       "      <th>Year</th>\n",
       "      <th>Mileage</th>\n",
       "      <th>State</th>\n",
       "      <th>Make</th>\n",
       "      <th>Model</th>\n",
       "    </tr>\n",
       "  </thead>\n",
       "  <tbody>\n",
       "    <tr>\n",
       "      <th>0</th>\n",
       "      <td>34995</td>\n",
       "      <td>2017</td>\n",
       "      <td>9913</td>\n",
       "      <td>FL</td>\n",
       "      <td>Jeep</td>\n",
       "      <td>Wrangler</td>\n",
       "    </tr>\n",
       "    <tr>\n",
       "      <th>1</th>\n",
       "      <td>37895</td>\n",
       "      <td>2015</td>\n",
       "      <td>20578</td>\n",
       "      <td>OH</td>\n",
       "      <td>Chevrolet</td>\n",
       "      <td>Tahoe4WD</td>\n",
       "    </tr>\n",
       "    <tr>\n",
       "      <th>2</th>\n",
       "      <td>18430</td>\n",
       "      <td>2012</td>\n",
       "      <td>83716</td>\n",
       "      <td>TX</td>\n",
       "      <td>BMW</td>\n",
       "      <td>X5AWD</td>\n",
       "    </tr>\n",
       "    <tr>\n",
       "      <th>3</th>\n",
       "      <td>24681</td>\n",
       "      <td>2014</td>\n",
       "      <td>28729</td>\n",
       "      <td>OH</td>\n",
       "      <td>Cadillac</td>\n",
       "      <td>SRXLuxury</td>\n",
       "    </tr>\n",
       "    <tr>\n",
       "      <th>4</th>\n",
       "      <td>26998</td>\n",
       "      <td>2013</td>\n",
       "      <td>64032</td>\n",
       "      <td>CO</td>\n",
       "      <td>Jeep</td>\n",
       "      <td>Wrangler</td>\n",
       "    </tr>\n",
       "    <tr>\n",
       "      <th>...</th>\n",
       "      <td>...</td>\n",
       "      <td>...</td>\n",
       "      <td>...</td>\n",
       "      <td>...</td>\n",
       "      <td>...</td>\n",
       "      <td>...</td>\n",
       "    </tr>\n",
       "    <tr>\n",
       "      <th>399995</th>\n",
       "      <td>29900</td>\n",
       "      <td>2015</td>\n",
       "      <td>25287</td>\n",
       "      <td>TX</td>\n",
       "      <td>Lexus</td>\n",
       "      <td>RXRX</td>\n",
       "    </tr>\n",
       "    <tr>\n",
       "      <th>399996</th>\n",
       "      <td>17688</td>\n",
       "      <td>2015</td>\n",
       "      <td>17677</td>\n",
       "      <td>MI</td>\n",
       "      <td>Chevrolet</td>\n",
       "      <td>EquinoxFWD</td>\n",
       "    </tr>\n",
       "    <tr>\n",
       "      <th>399997</th>\n",
       "      <td>24907</td>\n",
       "      <td>2014</td>\n",
       "      <td>66688</td>\n",
       "      <td>NC</td>\n",
       "      <td>Buick</td>\n",
       "      <td>EnclaveLeather</td>\n",
       "    </tr>\n",
       "    <tr>\n",
       "      <th>399998</th>\n",
       "      <td>11498</td>\n",
       "      <td>2014</td>\n",
       "      <td>37872</td>\n",
       "      <td>IN</td>\n",
       "      <td>Volkswagen</td>\n",
       "      <td>Jetta</td>\n",
       "    </tr>\n",
       "    <tr>\n",
       "      <th>399999</th>\n",
       "      <td>16900</td>\n",
       "      <td>2014</td>\n",
       "      <td>78606</td>\n",
       "      <td>CO</td>\n",
       "      <td>Nissan</td>\n",
       "      <td>PathfinderS</td>\n",
       "    </tr>\n",
       "  </tbody>\n",
       "</table>\n",
       "<p>400000 rows × 6 columns</p>\n",
       "</div>"
      ],
      "text/plain": [
       "        Price  Year  Mileage State        Make           Model\n",
       "0       34995  2017     9913    FL        Jeep        Wrangler\n",
       "1       37895  2015    20578    OH   Chevrolet        Tahoe4WD\n",
       "2       18430  2012    83716    TX         BMW           X5AWD\n",
       "3       24681  2014    28729    OH    Cadillac       SRXLuxury\n",
       "4       26998  2013    64032    CO        Jeep        Wrangler\n",
       "...       ...   ...      ...   ...         ...             ...\n",
       "399995  29900  2015    25287    TX       Lexus            RXRX\n",
       "399996  17688  2015    17677    MI   Chevrolet      EquinoxFWD\n",
       "399997  24907  2014    66688    NC       Buick  EnclaveLeather\n",
       "399998  11498  2014    37872    IN  Volkswagen           Jetta\n",
       "399999  16900  2014    78606    CO      Nissan     PathfinderS\n",
       "\n",
       "[400000 rows x 6 columns]"
      ]
     },
     "execution_count": 28,
     "metadata": {},
     "output_type": "execute_result"
    }
   ],
   "source": [
    "dataTraining"
   ]
  },
  {
   "cell_type": "code",
   "execution_count": 29,
   "metadata": {},
   "outputs": [
    {
     "data": {
      "text/plain": [
       "count    400000.000000\n",
       "mean      21146.919312\n",
       "std       10753.664940\n",
       "min        5001.000000\n",
       "25%       13499.000000\n",
       "50%       18450.000000\n",
       "75%       26999.000000\n",
       "max       79999.000000\n",
       "Name: Price, dtype: float64"
      ]
     },
     "execution_count": 29,
     "metadata": {},
     "output_type": "execute_result"
    }
   ],
   "source": [
    "dataTraining['Price'].describe()"
   ]
  },
  {
   "cell_type": "code",
   "execution_count": 30,
   "metadata": {},
   "outputs": [
    {
     "data": {
      "text/plain": [
       "count    400000.000000\n",
       "mean       2013.198125\n",
       "std           3.292326\n",
       "min        1997.000000\n",
       "25%        2012.000000\n",
       "50%        2014.000000\n",
       "75%        2016.000000\n",
       "max        2018.000000\n",
       "Name: Year, dtype: float64"
      ]
     },
     "execution_count": 30,
     "metadata": {},
     "output_type": "execute_result"
    }
   ],
   "source": [
    "dataTraining['Year'].describe()"
   ]
  },
  {
   "cell_type": "code",
   "execution_count": 31,
   "metadata": {},
   "outputs": [
    {
     "data": {
      "text/plain": [
       "count    4.000000e+05\n",
       "mean     5.507296e+04\n",
       "std      4.088102e+04\n",
       "min      5.000000e+00\n",
       "25%      2.584100e+04\n",
       "50%      4.295500e+04\n",
       "75%      7.743300e+04\n",
       "max      2.457832e+06\n",
       "Name: Mileage, dtype: float64"
      ]
     },
     "execution_count": 31,
     "metadata": {},
     "output_type": "execute_result"
    }
   ],
   "source": [
    "dataTraining['Mileage'].describe()"
   ]
  },
  {
   "cell_type": "code",
   "execution_count": 32,
   "metadata": {},
   "outputs": [
    {
     "data": {
      "image/png": "[encoded data removed]",
      "text/plain": [
       "<Figure size 640x480 with 1 Axes>"
      ]
     },
     "metadata": {},
     "output_type": "display_data"
    }
   ],
   "source": [
    "dataTraining['Mileage'].hist()\n",
    "plt.show()"
   ]
  },
  {
   "cell_type": "code",
   "execution_count": 33,
   "metadata": {},
   "outputs": [
    {
     "data": {
      "image/png": "[encoded data removed]",
      "text/plain": [
       "<Figure size 640x480 with 1 Axes>"
      ]
     },
     "metadata": {},
     "output_type": "display_data"
    }
   ],
   "source": [
    "dataTraining['Year'].hist()\n",
    "plt.show()"
   ]
  },
  {
   "cell_type": "code",
   "execution_count": 34,
   "metadata": {},
   "outputs": [
    {
     "ename": "NameError",
     "evalue": "name 'XTrain' is not defined",
     "output_type": "error",
     "traceback": [
      "\u001b[1;31m---------------------------------------------------------------------------\u001b[0m",
      "\u001b[1;31mNameError\u001b[0m                                 Traceback (most recent call last)",
      "Cell \u001b[1;32mIn[34], line 2\u001b[0m\n\u001b[0;32m      1\u001b[0m rf \u001b[38;5;241m=\u001b[39m RandomForestRegressor(n_estimators\u001b[38;5;241m=\u001b[39m\u001b[38;5;241m50\u001b[39m,max_depth\u001b[38;5;241m=\u001b[39m\u001b[38;5;241m5\u001b[39m,max_features\u001b[38;5;241m=\u001b[39m\u001b[38;5;124m'\u001b[39m\u001b[38;5;124msqrt\u001b[39m\u001b[38;5;124m'\u001b[39m)\n\u001b[1;32m----> 2\u001b[0m rf\u001b[38;5;241m.\u001b[39mfit(\u001b[43mXTrain\u001b[49m,yTrain)\n\u001b[0;32m      3\u001b[0m preds \u001b[38;5;241m=\u001b[39m rf\u001b[38;5;241m.\u001b[39mpredict(XTest)\n",
      "\u001b[1;31mNameError\u001b[0m: name 'XTrain' is not defined"
     ]
    }
   ],
   "source": [
    "rf = RandomForestRegressor(n_estimators=50,max_depth=5,max_features='sqrt')\n",
    "rf.fit(XTrain,yTrain)\n",
    "preds = rf.predict(XTest)"
   ]
  },
  {
   "cell_type": "code",
   "execution_count": null,
   "metadata": {},
   "outputs": [],
   "source": [
    "rf_regressor = RandomForestRegressor()"
   ]
  },
  {
   "cell_type": "code",
   "execution_count": null,
   "metadata": {},
   "outputs": [
    {
     "ename": "KeyboardInterrupt",
     "evalue": "",
     "output_type": "error",
     "traceback": [
      "\u001b[1;31m---------------------------------------------------------------------------\u001b[0m",
      "\u001b[1;31mKeyboardInterrupt\u001b[0m                         Traceback (most recent call last)",
      "Cell \u001b[1;32mIn[141], line 8\u001b[0m\n\u001b[0;32m      1\u001b[0m param_grid \u001b[38;5;241m=\u001b[39m {\n\u001b[0;32m      2\u001b[0m     \u001b[38;5;124m'\u001b[39m\u001b[38;5;124mn_estimators\u001b[39m\u001b[38;5;124m'\u001b[39m: [\u001b[38;5;241m50\u001b[39m, \u001b[38;5;241m100\u001b[39m, \u001b[38;5;241m200\u001b[39m],  \u001b[38;5;66;03m# Número de árboles en el bosque\u001b[39;00m\n\u001b[0;32m      3\u001b[0m     \u001b[38;5;124m'\u001b[39m\u001b[38;5;124mmax_depth\u001b[39m\u001b[38;5;124m'\u001b[39m: [\u001b[38;5;28;01mNone\u001b[39;00m, \u001b[38;5;241m10\u001b[39m, \u001b[38;5;241m20\u001b[39m],       \u001b[38;5;66;03m# Profundidad máxima de cada árbol\u001b[39;00m\n\u001b[0;32m      4\u001b[0m     \u001b[38;5;124m'\u001b[39m\u001b[38;5;124mmin_samples_split\u001b[39m\u001b[38;5;124m'\u001b[39m: [\u001b[38;5;241m2\u001b[39m, \u001b[38;5;241m5\u001b[39m, \u001b[38;5;241m10\u001b[39m],   \u001b[38;5;66;03m# Número mínimo de muestras requeridas para dividir un nodo interno\u001b[39;00m\n\u001b[0;32m      5\u001b[0m     \u001b[38;5;124m'\u001b[39m\u001b[38;5;124mmin_samples_leaf\u001b[39m\u001b[38;5;124m'\u001b[39m: [\u001b[38;5;241m1\u001b[39m, \u001b[38;5;241m2\u001b[39m, \u001b[38;5;241m4\u001b[39m]      \u001b[38;5;66;03m# Número mínimo de muestras requeridas para estar en un nodo hoja\u001b[39;00m\n\u001b[0;32m      6\u001b[0m }\n\u001b[0;32m      7\u001b[0m grid_search \u001b[38;5;241m=\u001b[39m GridSearchCV(estimator\u001b[38;5;241m=\u001b[39mrf_regressor, param_grid\u001b[38;5;241m=\u001b[39mparam_grid, cv\u001b[38;5;241m=\u001b[39m\u001b[38;5;241m5\u001b[39m)\n\u001b[1;32m----> 8\u001b[0m \u001b[43mgrid_search\u001b[49m\u001b[38;5;241;43m.\u001b[39;49m\u001b[43mfit\u001b[49m\u001b[43m(\u001b[49m\u001b[43mXTrain\u001b[49m\u001b[43m,\u001b[49m\u001b[43m \u001b[49m\u001b[43myTrain\u001b[49m\u001b[43m)\u001b[49m\n",
      "File \u001b[1;32m~\\AppData\\Local\\Packages\\PythonSoftwareFoundation.Python.3.9_qbz5n2kfra8p0\\LocalCache\\local-packages\\Python39\\site-packages\\sklearn\\base.py:1474\u001b[0m, in \u001b[0;36m_fit_context.<locals>.decorator.<locals>.wrapper\u001b[1;34m(estimator, *args, **kwargs)\u001b[0m\n\u001b[0;32m   1467\u001b[0m     estimator\u001b[38;5;241m.\u001b[39m_validate_params()\n\u001b[0;32m   1469\u001b[0m \u001b[38;5;28;01mwith\u001b[39;00m config_context(\n\u001b[0;32m   1470\u001b[0m     skip_parameter_validation\u001b[38;5;241m=\u001b[39m(\n\u001b[0;32m   1471\u001b[0m         prefer_skip_nested_validation \u001b[38;5;129;01mor\u001b[39;00m global_skip_validation\n\u001b[0;32m   1472\u001b[0m     )\n\u001b[0;32m   1473\u001b[0m ):\n\u001b[1;32m-> 1474\u001b[0m     \u001b[38;5;28;01mreturn\u001b[39;00m fit_method(estimator, \u001b[38;5;241m*\u001b[39margs, \u001b[38;5;241m*\u001b[39m\u001b[38;5;241m*\u001b[39mkwargs)\n",
      "File \u001b[1;32m~\\AppData\\Local\\Packages\\PythonSoftwareFoundation.Python.3.9_qbz5n2kfra8p0\\LocalCache\\local-packages\\Python39\\site-packages\\sklearn\\model_selection\\_search.py:970\u001b[0m, in \u001b[0;36mBaseSearchCV.fit\u001b[1;34m(self, X, y, **params)\u001b[0m\n\u001b[0;32m    964\u001b[0m     results \u001b[38;5;241m=\u001b[39m \u001b[38;5;28mself\u001b[39m\u001b[38;5;241m.\u001b[39m_format_results(\n\u001b[0;32m    965\u001b[0m         all_candidate_params, n_splits, all_out, all_more_results\n\u001b[0;32m    966\u001b[0m     )\n\u001b[0;32m    968\u001b[0m     \u001b[38;5;28;01mreturn\u001b[39;00m results\n\u001b[1;32m--> 970\u001b[0m \u001b[38;5;28;43mself\u001b[39;49m\u001b[38;5;241;43m.\u001b[39;49m\u001b[43m_run_search\u001b[49m\u001b[43m(\u001b[49m\u001b[43mevaluate_candidates\u001b[49m\u001b[43m)\u001b[49m\n\u001b[0;32m    972\u001b[0m \u001b[38;5;66;03m# multimetric is determined here because in the case of a callable\u001b[39;00m\n\u001b[0;32m    973\u001b[0m \u001b[38;5;66;03m# self.scoring the return type is only known after calling\u001b[39;00m\n\u001b[0;32m    974\u001b[0m first_test_score \u001b[38;5;241m=\u001b[39m all_out[\u001b[38;5;241m0\u001b[39m][\u001b[38;5;124m\"\u001b[39m\u001b[38;5;124mtest_scores\u001b[39m\u001b[38;5;124m\"\u001b[39m]\n",
      "File \u001b[1;32m~\\AppData\\Local\\Packages\\PythonSoftwareFoundation.Python.3.9_qbz5n2kfra8p0\\LocalCache\\local-packages\\Python39\\site-packages\\sklearn\\model_selection\\_search.py:1527\u001b[0m, in \u001b[0;36mGridSearchCV._run_search\u001b[1;34m(self, evaluate_candidates)\u001b[0m\n\u001b[0;32m   1525\u001b[0m \u001b[38;5;28;01mdef\u001b[39;00m \u001b[38;5;21m_run_search\u001b[39m(\u001b[38;5;28mself\u001b[39m, evaluate_candidates):\n\u001b[0;32m   1526\u001b[0m \u001b[38;5;250m    \u001b[39m\u001b[38;5;124;03m\"\"\"Search all candidates in param_grid\"\"\"\u001b[39;00m\n\u001b[1;32m-> 1527\u001b[0m     \u001b[43mevaluate_candidates\u001b[49m\u001b[43m(\u001b[49m\u001b[43mParameterGrid\u001b[49m\u001b[43m(\u001b[49m\u001b[38;5;28;43mself\u001b[39;49m\u001b[38;5;241;43m.\u001b[39;49m\u001b[43mparam_grid\u001b[49m\u001b[43m)\u001b[49m\u001b[43m)\u001b[49m\n",
      "File \u001b[1;32m~\\AppData\\Local\\Packages\\PythonSoftwareFoundation.Python.3.9_qbz5n2kfra8p0\\LocalCache\\local-packages\\Python39\\site-packages\\sklearn\\model_selection\\_search.py:916\u001b[0m, in \u001b[0;36mBaseSearchCV.fit.<locals>.evaluate_candidates\u001b[1;34m(candidate_params, cv, more_results)\u001b[0m\n\u001b[0;32m    908\u001b[0m \u001b[38;5;28;01mif\u001b[39;00m \u001b[38;5;28mself\u001b[39m\u001b[38;5;241m.\u001b[39mverbose \u001b[38;5;241m>\u001b[39m \u001b[38;5;241m0\u001b[39m:\n\u001b[0;32m    909\u001b[0m     \u001b[38;5;28mprint\u001b[39m(\n\u001b[0;32m    910\u001b[0m         \u001b[38;5;124m\"\u001b[39m\u001b[38;5;124mFitting \u001b[39m\u001b[38;5;132;01m{0}\u001b[39;00m\u001b[38;5;124m folds for each of \u001b[39m\u001b[38;5;132;01m{1}\u001b[39;00m\u001b[38;5;124m candidates,\u001b[39m\u001b[38;5;124m\"\u001b[39m\n\u001b[0;32m    911\u001b[0m         \u001b[38;5;124m\"\u001b[39m\u001b[38;5;124m totalling \u001b[39m\u001b[38;5;132;01m{2}\u001b[39;00m\u001b[38;5;124m fits\u001b[39m\u001b[38;5;124m\"\u001b[39m\u001b[38;5;241m.\u001b[39mformat(\n\u001b[0;32m    912\u001b[0m             n_splits, n_candidates, n_candidates \u001b[38;5;241m*\u001b[39m n_splits\n\u001b[0;32m    913\u001b[0m         )\n\u001b[0;32m    914\u001b[0m     )\n\u001b[1;32m--> 916\u001b[0m out \u001b[38;5;241m=\u001b[39m \u001b[43mparallel\u001b[49m\u001b[43m(\u001b[49m\n\u001b[0;32m    917\u001b[0m \u001b[43m    \u001b[49m\u001b[43mdelayed\u001b[49m\u001b[43m(\u001b[49m\u001b[43m_fit_and_score\u001b[49m\u001b[43m)\u001b[49m\u001b[43m(\u001b[49m\n\u001b[0;32m    918\u001b[0m \u001b[43m        \u001b[49m\u001b[43mclone\u001b[49m\u001b[43m(\u001b[49m\u001b[43mbase_estimator\u001b[49m\u001b[43m)\u001b[49m\u001b[43m,\u001b[49m\n\u001b[0;32m    919\u001b[0m \u001b[43m        \u001b[49m\u001b[43mX\u001b[49m\u001b[43m,\u001b[49m\n\u001b[0;32m    920\u001b[0m \u001b[43m        \u001b[49m\u001b[43my\u001b[49m\u001b[43m,\u001b[49m\n\u001b[0;32m    921\u001b[0m \u001b[43m        \u001b[49m\u001b[43mtrain\u001b[49m\u001b[38;5;241;43m=\u001b[39;49m\u001b[43mtrain\u001b[49m\u001b[43m,\u001b[49m\n\u001b[0;32m    922\u001b[0m \u001b[43m        \u001b[49m\u001b[43mtest\u001b[49m\u001b[38;5;241;43m=\u001b[39;49m\u001b[43mtest\u001b[49m\u001b[43m,\u001b[49m\n\u001b[0;32m    923\u001b[0m \u001b[43m        \u001b[49m\u001b[43mparameters\u001b[49m\u001b[38;5;241;43m=\u001b[39;49m\u001b[43mparameters\u001b[49m\u001b[43m,\u001b[49m\n\u001b[0;32m    924\u001b[0m \u001b[43m        \u001b[49m\u001b[43msplit_progress\u001b[49m\u001b[38;5;241;43m=\u001b[39;49m\u001b[43m(\u001b[49m\u001b[43msplit_idx\u001b[49m\u001b[43m,\u001b[49m\u001b[43m \u001b[49m\u001b[43mn_splits\u001b[49m\u001b[43m)\u001b[49m\u001b[43m,\u001b[49m\n\u001b[0;32m    925\u001b[0m \u001b[43m        \u001b[49m\u001b[43mcandidate_progress\u001b[49m\u001b[38;5;241;43m=\u001b[39;49m\u001b[43m(\u001b[49m\u001b[43mcand_idx\u001b[49m\u001b[43m,\u001b[49m\u001b[43m \u001b[49m\u001b[43mn_candidates\u001b[49m\u001b[43m)\u001b[49m\u001b[43m,\u001b[49m\n\u001b[0;32m    926\u001b[0m \u001b[43m        \u001b[49m\u001b[38;5;241;43m*\u001b[39;49m\u001b[38;5;241;43m*\u001b[39;49m\u001b[43mfit_and_score_kwargs\u001b[49m\u001b[43m,\u001b[49m\n\u001b[0;32m    927\u001b[0m \u001b[43m    \u001b[49m\u001b[43m)\u001b[49m\n\u001b[0;32m    928\u001b[0m \u001b[43m    \u001b[49m\u001b[38;5;28;43;01mfor\u001b[39;49;00m\u001b[43m \u001b[49m\u001b[43m(\u001b[49m\u001b[43mcand_idx\u001b[49m\u001b[43m,\u001b[49m\u001b[43m \u001b[49m\u001b[43mparameters\u001b[49m\u001b[43m)\u001b[49m\u001b[43m,\u001b[49m\u001b[43m \u001b[49m\u001b[43m(\u001b[49m\u001b[43msplit_idx\u001b[49m\u001b[43m,\u001b[49m\u001b[43m \u001b[49m\u001b[43m(\u001b[49m\u001b[43mtrain\u001b[49m\u001b[43m,\u001b[49m\u001b[43m \u001b[49m\u001b[43mtest\u001b[49m\u001b[43m)\u001b[49m\u001b[43m)\u001b[49m\u001b[43m \u001b[49m\u001b[38;5;129;43;01min\u001b[39;49;00m\u001b[43m \u001b[49m\u001b[43mproduct\u001b[49m\u001b[43m(\u001b[49m\n\u001b[0;32m    929\u001b[0m \u001b[43m        \u001b[49m\u001b[38;5;28;43menumerate\u001b[39;49m\u001b[43m(\u001b[49m\u001b[43mcandidate_params\u001b[49m\u001b[43m)\u001b[49m\u001b[43m,\u001b[49m\n\u001b[0;32m    930\u001b[0m \u001b[43m        \u001b[49m\u001b[38;5;28;43menumerate\u001b[39;49m\u001b[43m(\u001b[49m\u001b[43mcv\u001b[49m\u001b[38;5;241;43m.\u001b[39;49m\u001b[43msplit\u001b[49m\u001b[43m(\u001b[49m\u001b[43mX\u001b[49m\u001b[43m,\u001b[49m\u001b[43m \u001b[49m\u001b[43my\u001b[49m\u001b[43m,\u001b[49m\u001b[43m \u001b[49m\u001b[38;5;241;43m*\u001b[39;49m\u001b[38;5;241;43m*\u001b[39;49m\u001b[43mrouted_params\u001b[49m\u001b[38;5;241;43m.\u001b[39;49m\u001b[43msplitter\u001b[49m\u001b[38;5;241;43m.\u001b[39;49m\u001b[43msplit\u001b[49m\u001b[43m)\u001b[49m\u001b[43m)\u001b[49m\u001b[43m,\u001b[49m\n\u001b[0;32m    931\u001b[0m \u001b[43m    \u001b[49m\u001b[43m)\u001b[49m\n\u001b[0;32m    932\u001b[0m \u001b[43m\u001b[49m\u001b[43m)\u001b[49m\n\u001b[0;32m    934\u001b[0m \u001b[38;5;28;01mif\u001b[39;00m \u001b[38;5;28mlen\u001b[39m(out) \u001b[38;5;241m<\u001b[39m \u001b[38;5;241m1\u001b[39m:\n\u001b[0;32m    935\u001b[0m     \u001b[38;5;28;01mraise\u001b[39;00m \u001b[38;5;167;01mValueError\u001b[39;00m(\n\u001b[0;32m    936\u001b[0m         \u001b[38;5;124m\"\u001b[39m\u001b[38;5;124mNo fits were performed. \u001b[39m\u001b[38;5;124m\"\u001b[39m\n\u001b[0;32m    937\u001b[0m         \u001b[38;5;124m\"\u001b[39m\u001b[38;5;124mWas the CV iterator empty? \u001b[39m\u001b[38;5;124m\"\u001b[39m\n\u001b[0;32m    938\u001b[0m         \u001b[38;5;124m\"\u001b[39m\u001b[38;5;124mWere there no candidates?\u001b[39m\u001b[38;5;124m\"\u001b[39m\n\u001b[0;32m    939\u001b[0m     )\n",
      "File \u001b[1;32m~\\AppData\\Local\\Packages\\PythonSoftwareFoundation.Python.3.9_qbz5n2kfra8p0\\LocalCache\\local-packages\\Python39\\site-packages\\sklearn\\utils\\parallel.py:67\u001b[0m, in \u001b[0;36mParallel.__call__\u001b[1;34m(self, iterable)\u001b[0m\n\u001b[0;32m     62\u001b[0m config \u001b[38;5;241m=\u001b[39m get_config()\n\u001b[0;32m     63\u001b[0m iterable_with_config \u001b[38;5;241m=\u001b[39m (\n\u001b[0;32m     64\u001b[0m     (_with_config(delayed_func, config), args, kwargs)\n\u001b[0;32m     65\u001b[0m     \u001b[38;5;28;01mfor\u001b[39;00m delayed_func, args, kwargs \u001b[38;5;129;01min\u001b[39;00m iterable\n\u001b[0;32m     66\u001b[0m )\n\u001b[1;32m---> 67\u001b[0m \u001b[38;5;28;01mreturn\u001b[39;00m \u001b[38;5;28;43msuper\u001b[39;49m\u001b[43m(\u001b[49m\u001b[43m)\u001b[49m\u001b[38;5;241;43m.\u001b[39;49m\u001b[38;5;21;43m__call__\u001b[39;49m\u001b[43m(\u001b[49m\u001b[43miterable_with_config\u001b[49m\u001b[43m)\u001b[49m\n",
      "File \u001b[1;32m~\\AppData\\Local\\Packages\\PythonSoftwareFoundation.Python.3.9_qbz5n2kfra8p0\\LocalCache\\local-packages\\Python39\\site-packages\\joblib\\parallel.py:1918\u001b[0m, in \u001b[0;36mParallel.__call__\u001b[1;34m(self, iterable)\u001b[0m\n\u001b[0;32m   1916\u001b[0m     output \u001b[38;5;241m=\u001b[39m \u001b[38;5;28mself\u001b[39m\u001b[38;5;241m.\u001b[39m_get_sequential_output(iterable)\n\u001b[0;32m   1917\u001b[0m     \u001b[38;5;28mnext\u001b[39m(output)\n\u001b[1;32m-> 1918\u001b[0m     \u001b[38;5;28;01mreturn\u001b[39;00m output \u001b[38;5;28;01mif\u001b[39;00m \u001b[38;5;28mself\u001b[39m\u001b[38;5;241m.\u001b[39mreturn_generator \u001b[38;5;28;01melse\u001b[39;00m \u001b[38;5;28;43mlist\u001b[39;49m\u001b[43m(\u001b[49m\u001b[43moutput\u001b[49m\u001b[43m)\u001b[49m\n\u001b[0;32m   1920\u001b[0m \u001b[38;5;66;03m# Let's create an ID that uniquely identifies the current call. If the\u001b[39;00m\n\u001b[0;32m   1921\u001b[0m \u001b[38;5;66;03m# call is interrupted early and that the same instance is immediately\u001b[39;00m\n\u001b[0;32m   1922\u001b[0m \u001b[38;5;66;03m# re-used, this id will be used to prevent workers that were\u001b[39;00m\n\u001b[0;32m   1923\u001b[0m \u001b[38;5;66;03m# concurrently finalizing a task from the previous call to run the\u001b[39;00m\n\u001b[0;32m   1924\u001b[0m \u001b[38;5;66;03m# callback.\u001b[39;00m\n\u001b[0;32m   1925\u001b[0m \u001b[38;5;28;01mwith\u001b[39;00m \u001b[38;5;28mself\u001b[39m\u001b[38;5;241m.\u001b[39m_lock:\n",
      "File \u001b[1;32m~\\AppData\\Local\\Packages\\PythonSoftwareFoundation.Python.3.9_qbz5n2kfra8p0\\LocalCache\\local-packages\\Python39\\site-packages\\joblib\\parallel.py:1847\u001b[0m, in \u001b[0;36mParallel._get_sequential_output\u001b[1;34m(self, iterable)\u001b[0m\n\u001b[0;32m   1845\u001b[0m \u001b[38;5;28mself\u001b[39m\u001b[38;5;241m.\u001b[39mn_dispatched_batches \u001b[38;5;241m+\u001b[39m\u001b[38;5;241m=\u001b[39m \u001b[38;5;241m1\u001b[39m\n\u001b[0;32m   1846\u001b[0m \u001b[38;5;28mself\u001b[39m\u001b[38;5;241m.\u001b[39mn_dispatched_tasks \u001b[38;5;241m+\u001b[39m\u001b[38;5;241m=\u001b[39m \u001b[38;5;241m1\u001b[39m\n\u001b[1;32m-> 1847\u001b[0m res \u001b[38;5;241m=\u001b[39m func(\u001b[38;5;241m*\u001b[39margs, \u001b[38;5;241m*\u001b[39m\u001b[38;5;241m*\u001b[39mkwargs)\n\u001b[0;32m   1848\u001b[0m \u001b[38;5;28mself\u001b[39m\u001b[38;5;241m.\u001b[39mn_completed_tasks \u001b[38;5;241m+\u001b[39m\u001b[38;5;241m=\u001b[39m \u001b[38;5;241m1\u001b[39m\n\u001b[0;32m   1849\u001b[0m \u001b[38;5;28mself\u001b[39m\u001b[38;5;241m.\u001b[39mprint_progress()\n",
      "File \u001b[1;32m~\\AppData\\Local\\Packages\\PythonSoftwareFoundation.Python.3.9_qbz5n2kfra8p0\\LocalCache\\local-packages\\Python39\\site-packages\\sklearn\\utils\\parallel.py:129\u001b[0m, in \u001b[0;36m_FuncWrapper.__call__\u001b[1;34m(self, *args, **kwargs)\u001b[0m\n\u001b[0;32m    127\u001b[0m     config \u001b[38;5;241m=\u001b[39m {}\n\u001b[0;32m    128\u001b[0m \u001b[38;5;28;01mwith\u001b[39;00m config_context(\u001b[38;5;241m*\u001b[39m\u001b[38;5;241m*\u001b[39mconfig):\n\u001b[1;32m--> 129\u001b[0m     \u001b[38;5;28;01mreturn\u001b[39;00m \u001b[38;5;28mself\u001b[39m\u001b[38;5;241m.\u001b[39mfunction(\u001b[38;5;241m*\u001b[39margs, \u001b[38;5;241m*\u001b[39m\u001b[38;5;241m*\u001b[39mkwargs)\n",
      "File \u001b[1;32m~\\AppData\\Local\\Packages\\PythonSoftwareFoundation.Python.3.9_qbz5n2kfra8p0\\LocalCache\\local-packages\\Python39\\site-packages\\sklearn\\model_selection\\_validation.py:895\u001b[0m, in \u001b[0;36m_fit_and_score\u001b[1;34m(estimator, X, y, scorer, train, test, verbose, parameters, fit_params, score_params, return_train_score, return_parameters, return_n_test_samples, return_times, return_estimator, split_progress, candidate_progress, error_score)\u001b[0m\n\u001b[0;32m    893\u001b[0m         estimator\u001b[38;5;241m.\u001b[39mfit(X_train, \u001b[38;5;241m*\u001b[39m\u001b[38;5;241m*\u001b[39mfit_params)\n\u001b[0;32m    894\u001b[0m     \u001b[38;5;28;01melse\u001b[39;00m:\n\u001b[1;32m--> 895\u001b[0m         estimator\u001b[38;5;241m.\u001b[39mfit(X_train, y_train, \u001b[38;5;241m*\u001b[39m\u001b[38;5;241m*\u001b[39mfit_params)\n\u001b[0;32m    897\u001b[0m \u001b[38;5;28;01mexcept\u001b[39;00m \u001b[38;5;167;01mException\u001b[39;00m:\n\u001b[0;32m    898\u001b[0m     \u001b[38;5;66;03m# Note fit time as time until error\u001b[39;00m\n\u001b[0;32m    899\u001b[0m     fit_time \u001b[38;5;241m=\u001b[39m time\u001b[38;5;241m.\u001b[39mtime() \u001b[38;5;241m-\u001b[39m start_time\n",
      "File \u001b[1;32m~\\AppData\\Local\\Packages\\PythonSoftwareFoundation.Python.3.9_qbz5n2kfra8p0\\LocalCache\\local-packages\\Python39\\site-packages\\sklearn\\base.py:1474\u001b[0m, in \u001b[0;36m_fit_context.<locals>.decorator.<locals>.wrapper\u001b[1;34m(estimator, *args, **kwargs)\u001b[0m\n\u001b[0;32m   1467\u001b[0m     estimator\u001b[38;5;241m.\u001b[39m_validate_params()\n\u001b[0;32m   1469\u001b[0m \u001b[38;5;28;01mwith\u001b[39;00m config_context(\n\u001b[0;32m   1470\u001b[0m     skip_parameter_validation\u001b[38;5;241m=\u001b[39m(\n\u001b[0;32m   1471\u001b[0m         prefer_skip_nested_validation \u001b[38;5;129;01mor\u001b[39;00m global_skip_validation\n\u001b[0;32m   1472\u001b[0m     )\n\u001b[0;32m   1473\u001b[0m ):\n\u001b[1;32m-> 1474\u001b[0m     \u001b[38;5;28;01mreturn\u001b[39;00m fit_method(estimator, \u001b[38;5;241m*\u001b[39margs, \u001b[38;5;241m*\u001b[39m\u001b[38;5;241m*\u001b[39mkwargs)\n",
      "File \u001b[1;32m~\\AppData\\Local\\Packages\\PythonSoftwareFoundation.Python.3.9_qbz5n2kfra8p0\\LocalCache\\local-packages\\Python39\\site-packages\\sklearn\\ensemble\\_forest.py:489\u001b[0m, in \u001b[0;36mBaseForest.fit\u001b[1;34m(self, X, y, sample_weight)\u001b[0m\n\u001b[0;32m    478\u001b[0m trees \u001b[38;5;241m=\u001b[39m [\n\u001b[0;32m    479\u001b[0m     \u001b[38;5;28mself\u001b[39m\u001b[38;5;241m.\u001b[39m_make_estimator(append\u001b[38;5;241m=\u001b[39m\u001b[38;5;28;01mFalse\u001b[39;00m, random_state\u001b[38;5;241m=\u001b[39mrandom_state)\n\u001b[0;32m    480\u001b[0m     \u001b[38;5;28;01mfor\u001b[39;00m i \u001b[38;5;129;01min\u001b[39;00m \u001b[38;5;28mrange\u001b[39m(n_more_estimators)\n\u001b[0;32m    481\u001b[0m ]\n\u001b[0;32m    483\u001b[0m \u001b[38;5;66;03m# Parallel loop: we prefer the threading backend as the Cython code\u001b[39;00m\n\u001b[0;32m    484\u001b[0m \u001b[38;5;66;03m# for fitting the trees is internally releasing the Python GIL\u001b[39;00m\n\u001b[0;32m    485\u001b[0m \u001b[38;5;66;03m# making threading more efficient than multiprocessing in\u001b[39;00m\n\u001b[0;32m    486\u001b[0m \u001b[38;5;66;03m# that case. However, for joblib 0.12+ we respect any\u001b[39;00m\n\u001b[0;32m    487\u001b[0m \u001b[38;5;66;03m# parallel_backend contexts set at a higher level,\u001b[39;00m\n\u001b[0;32m    488\u001b[0m \u001b[38;5;66;03m# since correctness does not rely on using threads.\u001b[39;00m\n\u001b[1;32m--> 489\u001b[0m trees \u001b[38;5;241m=\u001b[39m \u001b[43mParallel\u001b[49m\u001b[43m(\u001b[49m\n\u001b[0;32m    490\u001b[0m \u001b[43m    \u001b[49m\u001b[43mn_jobs\u001b[49m\u001b[38;5;241;43m=\u001b[39;49m\u001b[38;5;28;43mself\u001b[39;49m\u001b[38;5;241;43m.\u001b[39;49m\u001b[43mn_jobs\u001b[49m\u001b[43m,\u001b[49m\n\u001b[0;32m    491\u001b[0m \u001b[43m    \u001b[49m\u001b[43mverbose\u001b[49m\u001b[38;5;241;43m=\u001b[39;49m\u001b[38;5;28;43mself\u001b[39;49m\u001b[38;5;241;43m.\u001b[39;49m\u001b[43mverbose\u001b[49m\u001b[43m,\u001b[49m\n\u001b[0;32m    492\u001b[0m \u001b[43m    \u001b[49m\u001b[43mprefer\u001b[49m\u001b[38;5;241;43m=\u001b[39;49m\u001b[38;5;124;43m\"\u001b[39;49m\u001b[38;5;124;43mthreads\u001b[39;49m\u001b[38;5;124;43m\"\u001b[39;49m\u001b[43m,\u001b[49m\n\u001b[0;32m    493\u001b[0m \u001b[43m\u001b[49m\u001b[43m)\u001b[49m\u001b[43m(\u001b[49m\n\u001b[0;32m    494\u001b[0m \u001b[43m    \u001b[49m\u001b[43mdelayed\u001b[49m\u001b[43m(\u001b[49m\u001b[43m_parallel_build_trees\u001b[49m\u001b[43m)\u001b[49m\u001b[43m(\u001b[49m\n\u001b[0;32m    495\u001b[0m \u001b[43m        \u001b[49m\u001b[43mt\u001b[49m\u001b[43m,\u001b[49m\n\u001b[0;32m    496\u001b[0m \u001b[43m        \u001b[49m\u001b[38;5;28;43mself\u001b[39;49m\u001b[38;5;241;43m.\u001b[39;49m\u001b[43mbootstrap\u001b[49m\u001b[43m,\u001b[49m\n\u001b[0;32m    497\u001b[0m \u001b[43m        \u001b[49m\u001b[43mX\u001b[49m\u001b[43m,\u001b[49m\n\u001b[0;32m    498\u001b[0m \u001b[43m        \u001b[49m\u001b[43my\u001b[49m\u001b[43m,\u001b[49m\n\u001b[0;32m    499\u001b[0m \u001b[43m        \u001b[49m\u001b[43msample_weight\u001b[49m\u001b[43m,\u001b[49m\n\u001b[0;32m    500\u001b[0m \u001b[43m        \u001b[49m\u001b[43mi\u001b[49m\u001b[43m,\u001b[49m\n\u001b[0;32m    501\u001b[0m \u001b[43m        \u001b[49m\u001b[38;5;28;43mlen\u001b[39;49m\u001b[43m(\u001b[49m\u001b[43mtrees\u001b[49m\u001b[43m)\u001b[49m\u001b[43m,\u001b[49m\n\u001b[0;32m    502\u001b[0m \u001b[43m        \u001b[49m\u001b[43mverbose\u001b[49m\u001b[38;5;241;43m=\u001b[39;49m\u001b[38;5;28;43mself\u001b[39;49m\u001b[38;5;241;43m.\u001b[39;49m\u001b[43mverbose\u001b[49m\u001b[43m,\u001b[49m\n\u001b[0;32m    503\u001b[0m \u001b[43m        \u001b[49m\u001b[43mclass_weight\u001b[49m\u001b[38;5;241;43m=\u001b[39;49m\u001b[38;5;28;43mself\u001b[39;49m\u001b[38;5;241;43m.\u001b[39;49m\u001b[43mclass_weight\u001b[49m\u001b[43m,\u001b[49m\n\u001b[0;32m    504\u001b[0m \u001b[43m        \u001b[49m\u001b[43mn_samples_bootstrap\u001b[49m\u001b[38;5;241;43m=\u001b[39;49m\u001b[43mn_samples_bootstrap\u001b[49m\u001b[43m,\u001b[49m\n\u001b[0;32m    505\u001b[0m \u001b[43m        \u001b[49m\u001b[43mmissing_values_in_feature_mask\u001b[49m\u001b[38;5;241;43m=\u001b[39;49m\u001b[43mmissing_values_in_feature_mask\u001b[49m\u001b[43m,\u001b[49m\n\u001b[0;32m    506\u001b[0m \u001b[43m    \u001b[49m\u001b[43m)\u001b[49m\n\u001b[0;32m    507\u001b[0m \u001b[43m    \u001b[49m\u001b[38;5;28;43;01mfor\u001b[39;49;00m\u001b[43m \u001b[49m\u001b[43mi\u001b[49m\u001b[43m,\u001b[49m\u001b[43m \u001b[49m\u001b[43mt\u001b[49m\u001b[43m \u001b[49m\u001b[38;5;129;43;01min\u001b[39;49;00m\u001b[43m \u001b[49m\u001b[38;5;28;43menumerate\u001b[39;49m\u001b[43m(\u001b[49m\u001b[43mtrees\u001b[49m\u001b[43m)\u001b[49m\n\u001b[0;32m    508\u001b[0m \u001b[43m\u001b[49m\u001b[43m)\u001b[49m\n\u001b[0;32m    510\u001b[0m \u001b[38;5;66;03m# Collect newly grown trees\u001b[39;00m\n\u001b[0;32m    511\u001b[0m \u001b[38;5;28mself\u001b[39m\u001b[38;5;241m.\u001b[39mestimators_\u001b[38;5;241m.\u001b[39mextend(trees)\n",
      "File \u001b[1;32m~\\AppData\\Local\\Packages\\PythonSoftwareFoundation.Python.3.9_qbz5n2kfra8p0\\LocalCache\\local-packages\\Python39\\site-packages\\sklearn\\utils\\parallel.py:67\u001b[0m, in \u001b[0;36mParallel.__call__\u001b[1;34m(self, iterable)\u001b[0m\n\u001b[0;32m     62\u001b[0m config \u001b[38;5;241m=\u001b[39m get_config()\n\u001b[0;32m     63\u001b[0m iterable_with_config \u001b[38;5;241m=\u001b[39m (\n\u001b[0;32m     64\u001b[0m     (_with_config(delayed_func, config), args, kwargs)\n\u001b[0;32m     65\u001b[0m     \u001b[38;5;28;01mfor\u001b[39;00m delayed_func, args, kwargs \u001b[38;5;129;01min\u001b[39;00m iterable\n\u001b[0;32m     66\u001b[0m )\n\u001b[1;32m---> 67\u001b[0m \u001b[38;5;28;01mreturn\u001b[39;00m \u001b[38;5;28;43msuper\u001b[39;49m\u001b[43m(\u001b[49m\u001b[43m)\u001b[49m\u001b[38;5;241;43m.\u001b[39;49m\u001b[38;5;21;43m__call__\u001b[39;49m\u001b[43m(\u001b[49m\u001b[43miterable_with_config\u001b[49m\u001b[43m)\u001b[49m\n",
      "File \u001b[1;32m~\\AppData\\Local\\Packages\\PythonSoftwareFoundation.Python.3.9_qbz5n2kfra8p0\\LocalCache\\local-packages\\Python39\\site-packages\\joblib\\parallel.py:1918\u001b[0m, in \u001b[0;36mParallel.__call__\u001b[1;34m(self, iterable)\u001b[0m\n\u001b[0;32m   1916\u001b[0m     output \u001b[38;5;241m=\u001b[39m \u001b[38;5;28mself\u001b[39m\u001b[38;5;241m.\u001b[39m_get_sequential_output(iterable)\n\u001b[0;32m   1917\u001b[0m     \u001b[38;5;28mnext\u001b[39m(output)\n\u001b[1;32m-> 1918\u001b[0m     \u001b[38;5;28;01mreturn\u001b[39;00m output \u001b[38;5;28;01mif\u001b[39;00m \u001b[38;5;28mself\u001b[39m\u001b[38;5;241m.\u001b[39mreturn_generator \u001b[38;5;28;01melse\u001b[39;00m \u001b[38;5;28;43mlist\u001b[39;49m\u001b[43m(\u001b[49m\u001b[43moutput\u001b[49m\u001b[43m)\u001b[49m\n\u001b[0;32m   1920\u001b[0m \u001b[38;5;66;03m# Let's create an ID that uniquely identifies the current call. If the\u001b[39;00m\n\u001b[0;32m   1921\u001b[0m \u001b[38;5;66;03m# call is interrupted early and that the same instance is immediately\u001b[39;00m\n\u001b[0;32m   1922\u001b[0m \u001b[38;5;66;03m# re-used, this id will be used to prevent workers that were\u001b[39;00m\n\u001b[0;32m   1923\u001b[0m \u001b[38;5;66;03m# concurrently finalizing a task from the previous call to run the\u001b[39;00m\n\u001b[0;32m   1924\u001b[0m \u001b[38;5;66;03m# callback.\u001b[39;00m\n\u001b[0;32m   1925\u001b[0m \u001b[38;5;28;01mwith\u001b[39;00m \u001b[38;5;28mself\u001b[39m\u001b[38;5;241m.\u001b[39m_lock:\n",
      "File \u001b[1;32m~\\AppData\\Local\\Packages\\PythonSoftwareFoundation.Python.3.9_qbz5n2kfra8p0\\LocalCache\\local-packages\\Python39\\site-packages\\joblib\\parallel.py:1847\u001b[0m, in \u001b[0;36mParallel._get_sequential_output\u001b[1;34m(self, iterable)\u001b[0m\n\u001b[0;32m   1845\u001b[0m \u001b[38;5;28mself\u001b[39m\u001b[38;5;241m.\u001b[39mn_dispatched_batches \u001b[38;5;241m+\u001b[39m\u001b[38;5;241m=\u001b[39m \u001b[38;5;241m1\u001b[39m\n\u001b[0;32m   1846\u001b[0m \u001b[38;5;28mself\u001b[39m\u001b[38;5;241m.\u001b[39mn_dispatched_tasks \u001b[38;5;241m+\u001b[39m\u001b[38;5;241m=\u001b[39m \u001b[38;5;241m1\u001b[39m\n\u001b[1;32m-> 1847\u001b[0m res \u001b[38;5;241m=\u001b[39m func(\u001b[38;5;241m*\u001b[39margs, \u001b[38;5;241m*\u001b[39m\u001b[38;5;241m*\u001b[39mkwargs)\n\u001b[0;32m   1848\u001b[0m \u001b[38;5;28mself\u001b[39m\u001b[38;5;241m.\u001b[39mn_completed_tasks \u001b[38;5;241m+\u001b[39m\u001b[38;5;241m=\u001b[39m \u001b[38;5;241m1\u001b[39m\n\u001b[0;32m   1849\u001b[0m \u001b[38;5;28mself\u001b[39m\u001b[38;5;241m.\u001b[39mprint_progress()\n",
      "File \u001b[1;32m~\\AppData\\Local\\Packages\\PythonSoftwareFoundation.Python.3.9_qbz5n2kfra8p0\\LocalCache\\local-packages\\Python39\\site-packages\\sklearn\\utils\\parallel.py:129\u001b[0m, in \u001b[0;36m_FuncWrapper.__call__\u001b[1;34m(self, *args, **kwargs)\u001b[0m\n\u001b[0;32m    127\u001b[0m     config \u001b[38;5;241m=\u001b[39m {}\n\u001b[0;32m    128\u001b[0m \u001b[38;5;28;01mwith\u001b[39;00m config_context(\u001b[38;5;241m*\u001b[39m\u001b[38;5;241m*\u001b[39mconfig):\n\u001b[1;32m--> 129\u001b[0m     \u001b[38;5;28;01mreturn\u001b[39;00m \u001b[38;5;28mself\u001b[39m\u001b[38;5;241m.\u001b[39mfunction(\u001b[38;5;241m*\u001b[39margs, \u001b[38;5;241m*\u001b[39m\u001b[38;5;241m*\u001b[39mkwargs)\n",
      "File \u001b[1;32m~\\AppData\\Local\\Packages\\PythonSoftwareFoundation.Python.3.9_qbz5n2kfra8p0\\LocalCache\\local-packages\\Python39\\site-packages\\sklearn\\ensemble\\_forest.py:192\u001b[0m, in \u001b[0;36m_parallel_build_trees\u001b[1;34m(tree, bootstrap, X, y, sample_weight, tree_idx, n_trees, verbose, class_weight, n_samples_bootstrap, missing_values_in_feature_mask)\u001b[0m\n\u001b[0;32m    189\u001b[0m     \u001b[38;5;28;01melif\u001b[39;00m class_weight \u001b[38;5;241m==\u001b[39m \u001b[38;5;124m\"\u001b[39m\u001b[38;5;124mbalanced_subsample\u001b[39m\u001b[38;5;124m\"\u001b[39m:\n\u001b[0;32m    190\u001b[0m         curr_sample_weight \u001b[38;5;241m*\u001b[39m\u001b[38;5;241m=\u001b[39m compute_sample_weight(\u001b[38;5;124m\"\u001b[39m\u001b[38;5;124mbalanced\u001b[39m\u001b[38;5;124m\"\u001b[39m, y, indices\u001b[38;5;241m=\u001b[39mindices)\n\u001b[1;32m--> 192\u001b[0m     \u001b[43mtree\u001b[49m\u001b[38;5;241;43m.\u001b[39;49m\u001b[43m_fit\u001b[49m\u001b[43m(\u001b[49m\n\u001b[0;32m    193\u001b[0m \u001b[43m        \u001b[49m\u001b[43mX\u001b[49m\u001b[43m,\u001b[49m\n\u001b[0;32m    194\u001b[0m \u001b[43m        \u001b[49m\u001b[43my\u001b[49m\u001b[43m,\u001b[49m\n\u001b[0;32m    195\u001b[0m \u001b[43m        \u001b[49m\u001b[43msample_weight\u001b[49m\u001b[38;5;241;43m=\u001b[39;49m\u001b[43mcurr_sample_weight\u001b[49m\u001b[43m,\u001b[49m\n\u001b[0;32m    196\u001b[0m \u001b[43m        \u001b[49m\u001b[43mcheck_input\u001b[49m\u001b[38;5;241;43m=\u001b[39;49m\u001b[38;5;28;43;01mFalse\u001b[39;49;00m\u001b[43m,\u001b[49m\n\u001b[0;32m    197\u001b[0m \u001b[43m        \u001b[49m\u001b[43mmissing_values_in_feature_mask\u001b[49m\u001b[38;5;241;43m=\u001b[39;49m\u001b[43mmissing_values_in_feature_mask\u001b[49m\u001b[43m,\u001b[49m\n\u001b[0;32m    198\u001b[0m \u001b[43m    \u001b[49m\u001b[43m)\u001b[49m\n\u001b[0;32m    199\u001b[0m \u001b[38;5;28;01melse\u001b[39;00m:\n\u001b[0;32m    200\u001b[0m     tree\u001b[38;5;241m.\u001b[39m_fit(\n\u001b[0;32m    201\u001b[0m         X,\n\u001b[0;32m    202\u001b[0m         y,\n\u001b[1;32m   (...)\u001b[0m\n\u001b[0;32m    205\u001b[0m         missing_values_in_feature_mask\u001b[38;5;241m=\u001b[39mmissing_values_in_feature_mask,\n\u001b[0;32m    206\u001b[0m     )\n",
      "File \u001b[1;32m~\\AppData\\Local\\Packages\\PythonSoftwareFoundation.Python.3.9_qbz5n2kfra8p0\\LocalCache\\local-packages\\Python39\\site-packages\\sklearn\\tree\\_classes.py:472\u001b[0m, in \u001b[0;36mBaseDecisionTree._fit\u001b[1;34m(self, X, y, sample_weight, check_input, missing_values_in_feature_mask)\u001b[0m\n\u001b[0;32m    461\u001b[0m \u001b[38;5;28;01melse\u001b[39;00m:\n\u001b[0;32m    462\u001b[0m     builder \u001b[38;5;241m=\u001b[39m BestFirstTreeBuilder(\n\u001b[0;32m    463\u001b[0m         splitter,\n\u001b[0;32m    464\u001b[0m         min_samples_split,\n\u001b[1;32m   (...)\u001b[0m\n\u001b[0;32m    469\u001b[0m         \u001b[38;5;28mself\u001b[39m\u001b[38;5;241m.\u001b[39mmin_impurity_decrease,\n\u001b[0;32m    470\u001b[0m     )\n\u001b[1;32m--> 472\u001b[0m \u001b[43mbuilder\u001b[49m\u001b[38;5;241;43m.\u001b[39;49m\u001b[43mbuild\u001b[49m\u001b[43m(\u001b[49m\u001b[38;5;28;43mself\u001b[39;49m\u001b[38;5;241;43m.\u001b[39;49m\u001b[43mtree_\u001b[49m\u001b[43m,\u001b[49m\u001b[43m \u001b[49m\u001b[43mX\u001b[49m\u001b[43m,\u001b[49m\u001b[43m \u001b[49m\u001b[43my\u001b[49m\u001b[43m,\u001b[49m\u001b[43m \u001b[49m\u001b[43msample_weight\u001b[49m\u001b[43m,\u001b[49m\u001b[43m \u001b[49m\u001b[43mmissing_values_in_feature_mask\u001b[49m\u001b[43m)\u001b[49m\n\u001b[0;32m    474\u001b[0m \u001b[38;5;28;01mif\u001b[39;00m \u001b[38;5;28mself\u001b[39m\u001b[38;5;241m.\u001b[39mn_outputs_ \u001b[38;5;241m==\u001b[39m \u001b[38;5;241m1\u001b[39m \u001b[38;5;129;01mand\u001b[39;00m is_classifier(\u001b[38;5;28mself\u001b[39m):\n\u001b[0;32m    475\u001b[0m     \u001b[38;5;28mself\u001b[39m\u001b[38;5;241m.\u001b[39mn_classes_ \u001b[38;5;241m=\u001b[39m \u001b[38;5;28mself\u001b[39m\u001b[38;5;241m.\u001b[39mn_classes_[\u001b[38;5;241m0\u001b[39m]\n",
      "\u001b[1;31mKeyboardInterrupt\u001b[0m: "
     ]
    }
   ],
   "source": [
    "param_grid = {\n",
    "    'n_estimators': [50, 100, 200],  # Número de árboles en el bosque\n",
    "    'max_depth': [None, 10, 20],       # Profundidad máxima de cada árbol\n",
    "    'min_samples_split': [2, 5, 10],   # Número mínimo de muestras requeridas para dividir un nodo interno\n",
    "    'min_samples_leaf': [1, 2, 4]      # Número mínimo de muestras requeridas para estar en un nodo hoja\n",
    "}\n",
    "grid_search = GridSearchCV(estimator=rf_regressor, param_grid=param_grid, cv=5)\n",
    "grid_search.fit(XTrain, yTrain)"
   ]
  },
  {
   "cell_type": "code",
   "execution_count": null,
   "metadata": {},
   "outputs": [],
   "source": [
    "best_params = grid_search.best_params_\n",
    "print(\"Mejores parámetros:\", best_params)\n",
    "\n",
    "# Obtener el mejor modelo\n",
    "best_model = grid_search.best_estimator_\n",
    "\n",
    "# Hacer predicciones con el mejor modelo\n",
    "predictions = best_model.predict(XTest)"
   ]
  },
  {
   "cell_type": "code",
   "execution_count": null,
   "metadata": {},
   "outputs": [
    {
     "data": {
      "text/plain": [
       "8968.991149797283"
      ]
     },
     "execution_count": 135,
     "metadata": {},
     "output_type": "execute_result"
    }
   ],
   "source": [
    "m.sqrt(mean_squared_error(yTest,preds))"
   ]
  },
  {
   "cell_type": "code",
   "execution_count": null,
   "metadata": {},
   "outputs": [
    {
     "data": {
      "image/png": "[encoded data removed]",
      "text/plain": [
       "<Figure size 640x480 with 1 Axes>"
      ]
     },
     "metadata": {},
     "output_type": "display_data"
    }
   ],
   "source": [
    "dataTraining['Price'].hist()\n",
    "plt.show()"
   ]
  },
  {
   "cell_type": "code",
   "execution_count": null,
   "metadata": {},
   "outputs": [
    {
     "data": {
      "image/png": "[encoded data removed]",
      "text/plain": [
       "<Figure size 640x480 with 1 Axes>"
      ]
     },
     "metadata": {},
     "output_type": "display_data"
    }
   ],
   "source": [
    "dataTraining[dataTraining['Price']<=25000]['Price'].hist()\n",
    "plt.show()"
   ]
  },
  {
   "cell_type": "code",
   "execution_count": null,
   "metadata": {},
   "outputs": [],
   "source": [
    "from sklearn.model_selection import train_test_split"
   ]
  },
  {
   "cell_type": "code",
   "execution_count": null,
   "metadata": {},
   "outputs": [],
   "source": [
    "boost = XGBRegressor(objective='reg:squarederror',colsample_bytree= 0.4,learning_rate=0.3, \n",
    "                     gamma=0.9e5, max_depth= 7,\n",
    "                      n_estimators =500,enable_categorical=True,n_jobs=-1,\n",
    "                      random_state=0)"
   ]
  },
  {
   "cell_type": "code",
   "execution_count": null,
   "metadata": {},
   "outputs": [
    {
     "data": {
      "text/html": [
       "<div>\n",
       "<style scoped>\n",
       "    .dataframe tbody tr th:only-of-type {\n",
       "        vertical-align: middle;\n",
       "    }\n",
       "\n",
       "    .dataframe tbody tr th {\n",
       "        vertical-align: top;\n",
       "    }\n",
       "\n",
       "    .dataframe thead th {\n",
       "        text-align: right;\n",
       "    }\n",
       "</style>\n",
       "<table border=\"1\" class=\"dataframe\">\n",
       "  <thead>\n",
       "    <tr style=\"text-align: right;\">\n",
       "      <th></th>\n",
       "      <th>Price</th>\n",
       "      <th>Year</th>\n",
       "      <th>Mileage</th>\n",
       "      <th>State</th>\n",
       "      <th>Make</th>\n",
       "      <th>Model</th>\n",
       "    </tr>\n",
       "  </thead>\n",
       "  <tbody>\n",
       "    <tr>\n",
       "      <th>0</th>\n",
       "      <td>34995</td>\n",
       "      <td>2017</td>\n",
       "      <td>9913</td>\n",
       "      <td>FL</td>\n",
       "      <td>Jeep</td>\n",
       "      <td>Wrangler</td>\n",
       "    </tr>\n",
       "    <tr>\n",
       "      <th>1</th>\n",
       "      <td>37895</td>\n",
       "      <td>2015</td>\n",
       "      <td>20578</td>\n",
       "      <td>OH</td>\n",
       "      <td>Chevrolet</td>\n",
       "      <td>Tahoe4WD</td>\n",
       "    </tr>\n",
       "    <tr>\n",
       "      <th>2</th>\n",
       "      <td>18430</td>\n",
       "      <td>2012</td>\n",
       "      <td>83716</td>\n",
       "      <td>TX</td>\n",
       "      <td>BMW</td>\n",
       "      <td>X5AWD</td>\n",
       "    </tr>\n",
       "    <tr>\n",
       "      <th>3</th>\n",
       "      <td>24681</td>\n",
       "      <td>2014</td>\n",
       "      <td>28729</td>\n",
       "      <td>OH</td>\n",
       "      <td>Cadillac</td>\n",
       "      <td>SRXLuxury</td>\n",
       "    </tr>\n",
       "    <tr>\n",
       "      <th>4</th>\n",
       "      <td>26998</td>\n",
       "      <td>2013</td>\n",
       "      <td>64032</td>\n",
       "      <td>CO</td>\n",
       "      <td>Jeep</td>\n",
       "      <td>Wrangler</td>\n",
       "    </tr>\n",
       "    <tr>\n",
       "      <th>...</th>\n",
       "      <td>...</td>\n",
       "      <td>...</td>\n",
       "      <td>...</td>\n",
       "      <td>...</td>\n",
       "      <td>...</td>\n",
       "      <td>...</td>\n",
       "    </tr>\n",
       "    <tr>\n",
       "      <th>399995</th>\n",
       "      <td>29900</td>\n",
       "      <td>2015</td>\n",
       "      <td>25287</td>\n",
       "      <td>TX</td>\n",
       "      <td>Lexus</td>\n",
       "      <td>RXRX</td>\n",
       "    </tr>\n",
       "    <tr>\n",
       "      <th>399996</th>\n",
       "      <td>17688</td>\n",
       "      <td>2015</td>\n",
       "      <td>17677</td>\n",
       "      <td>MI</td>\n",
       "      <td>Chevrolet</td>\n",
       "      <td>EquinoxFWD</td>\n",
       "    </tr>\n",
       "    <tr>\n",
       "      <th>399997</th>\n",
       "      <td>24907</td>\n",
       "      <td>2014</td>\n",
       "      <td>66688</td>\n",
       "      <td>NC</td>\n",
       "      <td>Buick</td>\n",
       "      <td>EnclaveLeather</td>\n",
       "    </tr>\n",
       "    <tr>\n",
       "      <th>399998</th>\n",
       "      <td>11498</td>\n",
       "      <td>2014</td>\n",
       "      <td>37872</td>\n",
       "      <td>IN</td>\n",
       "      <td>Volkswagen</td>\n",
       "      <td>Jetta</td>\n",
       "    </tr>\n",
       "    <tr>\n",
       "      <th>399999</th>\n",
       "      <td>16900</td>\n",
       "      <td>2014</td>\n",
       "      <td>78606</td>\n",
       "      <td>CO</td>\n",
       "      <td>Nissan</td>\n",
       "      <td>PathfinderS</td>\n",
       "    </tr>\n",
       "  </tbody>\n",
       "</table>\n",
       "<p>400000 rows × 6 columns</p>\n",
       "</div>"
      ],
      "text/plain": [
       "        Price  Year  Mileage State        Make           Model\n",
       "0       34995  2017     9913    FL        Jeep        Wrangler\n",
       "1       37895  2015    20578    OH   Chevrolet        Tahoe4WD\n",
       "2       18430  2012    83716    TX         BMW           X5AWD\n",
       "3       24681  2014    28729    OH    Cadillac       SRXLuxury\n",
       "4       26998  2013    64032    CO        Jeep        Wrangler\n",
       "...       ...   ...      ...   ...         ...             ...\n",
       "399995  29900  2015    25287    TX       Lexus            RXRX\n",
       "399996  17688  2015    17677    MI   Chevrolet      EquinoxFWD\n",
       "399997  24907  2014    66688    NC       Buick  EnclaveLeather\n",
       "399998  11498  2014    37872    IN  Volkswagen           Jetta\n",
       "399999  16900  2014    78606    CO      Nissan     PathfinderS\n",
       "\n",
       "[400000 rows x 6 columns]"
      ]
     },
     "execution_count": 361,
     "metadata": {},
     "output_type": "execute_result"
    }
   ],
   "source": [
    "X = dataTraining.copy()\n",
    "X['Model'] = X['Model'].astype('category')\n",
    "X['Make'] = X['Make'].astype('category')\n",
    "X['State'] = X['State'].astype('category')\n",
    "X"
   ]
  },
  {
   "cell_type": "code",
   "execution_count": null,
   "metadata": {},
   "outputs": [
    {
     "data": {
      "text/plain": [
       "[10000,\n",
       " 15000,\n",
       " 20000,\n",
       " 25000,\n",
       " 30000,\n",
       " 35000,\n",
       " 40000,\n",
       " 45000,\n",
       " 50000,\n",
       " 55000,\n",
       " 60000,\n",
       " 65000,\n",
       " 70000,\n",
       " 75000]"
      ]
     },
     "execution_count": 299,
     "metadata": {},
     "output_type": "execute_result"
    }
   ],
   "source": [
    "thresholds = list(range(10000,80000,5000))\n",
    "rmses=[]\n",
    "sizes=[]\n",
    "thresholds"
   ]
  },
  {
   "cell_type": "code",
   "execution_count": null,
   "metadata": {},
   "outputs": [],
   "source": [
    "for thres in thresholds:\n",
    "    XTotal = X.copy()[X['Price']<=thres][['Year','Mileage','Make','Model','State']]\n",
    "    yTotal = dataTraining[dataTraining['Price']<=thres]['Price']\n",
    "    XTrain,XTest,yTrain,yTest = train_test_split(XTotal,yTotal,test_size=0.33,random_state=1)\n",
    "    boost.fit(XTrain, yTrain)\n",
    "    predictions = boost.predict(XTest)\n",
    "    sizes.append(len(yTest))\n",
    "    rmses.append(m.sqrt(mean_squared_error(yTest,predictions)))"
   ]
  },
  {
   "cell_type": "code",
   "execution_count": null,
   "metadata": {},
   "outputs": [
    {
     "data": {
      "text/plain": [
       "14"
      ]
     },
     "execution_count": 301,
     "metadata": {},
     "output_type": "execute_result"
    }
   ],
   "source": [
    "len(rmses)"
   ]
  },
  {
   "cell_type": "code",
   "execution_count": null,
   "metadata": {},
   "outputs": [
    {
     "data": {
      "text/plain": [
       "[1035.508526712998,\n",
       " 1382.8304621786617,\n",
       " 1657.2790689408223,\n",
       " 1930.9964916699805,\n",
       " 2162.059511742081,\n",
       " 2406.343430966738,\n",
       " 2638.917264129689,\n",
       " 2828.9265136583967,\n",
       " 3005.716372706365,\n",
       " 3144.36619929411,\n",
       " 3312.4577192620204,\n",
       " 3374.973290605527,\n",
       " 3441.1727872086026,\n",
       " 3457.5952877171667]"
      ]
     },
     "execution_count": 302,
     "metadata": {},
     "output_type": "execute_result"
    }
   ],
   "source": [
    "rmses"
   ]
  },
  {
   "cell_type": "code",
   "execution_count": null,
   "metadata": {},
   "outputs": [
    {
     "data": {
      "text/plain": [
       "[10000,\n",
       " 15000,\n",
       " 20000,\n",
       " 25000,\n",
       " 30000,\n",
       " 35000,\n",
       " 40000,\n",
       " 45000,\n",
       " 50000,\n",
       " 55000,\n",
       " 60000,\n",
       " 65000,\n",
       " 70000,\n",
       " 75000]"
      ]
     },
     "execution_count": 296,
     "metadata": {},
     "output_type": "execute_result"
    }
   ],
   "source": [
    "thresholds"
   ]
  },
  {
   "cell_type": "code",
   "execution_count": null,
   "metadata": {},
   "outputs": [
    {
     "data": {
      "text/plain": [
       "14"
      ]
     },
     "execution_count": 303,
     "metadata": {},
     "output_type": "execute_result"
    }
   ],
   "source": [
    "len(thresholds)"
   ]
  },
  {
   "cell_type": "code",
   "execution_count": null,
   "metadata": {},
   "outputs": [
    {
     "data": {
      "image/png": "[encoded data removed]",
      "text/plain": [
       "<Figure size 640x480 with 1 Axes>"
      ]
     },
     "metadata": {},
     "output_type": "display_data"
    }
   ],
   "source": [
    "plt.plot(thresholds,rmses)\n",
    "plt.show()"
   ]
  },
  {
   "cell_type": "code",
   "execution_count": null,
   "metadata": {},
   "outputs": [
    {
     "name": "stdout",
     "output_type": "stream",
     "text": [
      "12.2658743092771 1035.508526712998 10000\n",
      "34.06505112675949 1382.8304621786617 15000\n",
      "57.41660160543331 1657.2790689408223 20000\n",
      "70.73608889764795 1930.9964916699805 25000\n",
      "81.98018601196117 2162.059511742081 30000\n",
      "89.65640088837009 2406.343430966738 35000\n",
      "94.29002402843997 2638.917264129689 40000\n",
      "96.61252056061306 2828.9265136583967 45000\n",
      "98.24145171193159 3005.716372706365 50000\n",
      "99.1207258559658 3144.36619929411 55000\n",
      "99.63009846354424 3312.4577192620204 60000\n",
      "99.81732321662737 3374.973290605527 65000\n",
      "99.94618235842549 3441.1727872086026 70000\n",
      "100.0 3457.5952877171667 75000\n"
     ]
    }
   ],
   "source": [
    "for i,j in enumerate(sizes):\n",
    "    print((j/max(sizes))*100,rmses[i],thresholds[i])\n"
   ]
  },
  {
   "cell_type": "code",
   "execution_count": null,
   "metadata": {},
   "outputs": [],
   "source": [
    "XTotal = X.copy()[X['Price']<=45000][['Year','Mileage','State','Make','Model']]\n",
    "XTotal = pd.get_dummies(XTotal, columns=['State','Make','Model'],drop_first=True)\n",
    "XTotal.sort_index(axis=1,inplace= True)\n",
    "yTotal = dataTraining.copy()[dataTraining['Price']<=45000]['Price']\n",
    "XTrain,XTest,yTrain,yTest = train_test_split(XTotal,yTotal,test_size=0.33,random_state=1)"
   ]
  },
  {
   "cell_type": "code",
   "execution_count": null,
   "metadata": {},
   "outputs": [],
   "source": [
    "XTotal2 = X.copy()[X['Price']<=45000][['Year','Mileage','State','Make','Model']]\n",
    "XTotal2['Model']= XTotal2['Model'].map(lambda x: 'otros' if x in sups else x)\n",
    "XTotal2 = pd.get_dummies(XTotal2, columns=['State','Make','Model'],drop_first=True)\n",
    "XTotal2.sort_index(axis=1,inplace= True)\n",
    "yTotal2 = dataTraining.copy()[dataTraining['Price']<=45000]['Price']\n",
    "XTrain2,XTest2,yTrain2,yTest2 = train_test_split(XTotal2,yTotal2,test_size=0.33,random_state=1)"
   ]
  },
  {
   "cell_type": "code",
   "execution_count": null,
   "metadata": {},
   "outputs": [],
   "source": [
    "boost.fit(XTrain, yTrain)\n",
    "predictions = boost.predict(XTest)"
   ]
  },
  {
   "cell_type": "code",
   "execution_count": null,
   "metadata": {},
   "outputs": [],
   "source": [
    "boost.fit(XTrain2, yTrain2)\n",
    "predictions2 = boost.predict(XTest2)"
   ]
  },
  {
   "cell_type": "code",
   "execution_count": null,
   "metadata": {},
   "outputs": [
    {
     "data": {
      "text/plain": [
       "2853.584918147388"
      ]
     },
     "execution_count": 447,
     "metadata": {},
     "output_type": "execute_result"
    }
   ],
   "source": [
    "(m.sqrt(mean_squared_error(yTest,predictions)))"
   ]
  },
  {
   "cell_type": "code",
   "execution_count": null,
   "metadata": {},
   "outputs": [
    {
     "data": {
      "text/plain": [
       "3597.7731373814977"
      ]
     },
     "execution_count": 448,
     "metadata": {},
     "output_type": "execute_result"
    }
   ],
   "source": [
    "(m.sqrt(mean_squared_error(yTest2,predictions2)))"
   ]
  },
  {
   "cell_type": "code",
   "execution_count": null,
   "metadata": {},
   "outputs": [],
   "source": [
    "dataTest = dataTesting.copy()\n",
    "dataTest['Model'] = dataTest['Model'].astype('category')\n",
    "dataTest['Make'] = dataTest['Make'].astype('category')\n",
    "dataTest['State'] = dataTest['State'].astype('category')\n",
    "dataTest = pd.get_dummies(dataTest, columns=['State','Make','Model'],drop_first=True)"
   ]
  },
  {
   "cell_type": "code",
   "execution_count": null,
   "metadata": {},
   "outputs": [],
   "source": [
    "colsXTotal = set(XTotal.columns)\n",
    "colsdataTest = set(dataTest.columns)\n",
    "#Hallamos los columnas compartidas en ambos datasets\n",
    "cols_compartidas = colsXTotal.intersection(colsdataTest)\n",
    "#Creamos una lista para cada dataset para revisar que columnas no están en el otro dataset\n",
    "revdataTest = [i for i in colsXTotal if i not in cols_compartidas]"
   ]
  },
  {
   "cell_type": "code",
   "execution_count": null,
   "metadata": {},
   "outputs": [
    {
     "data": {
      "text/plain": [
       "['Make_Freightliner']"
      ]
     },
     "execution_count": 431,
     "metadata": {},
     "output_type": "execute_result"
    }
   ],
   "source": [
    "revdataTest"
   ]
  },
  {
   "cell_type": "code",
   "execution_count": null,
   "metadata": {},
   "outputs": [
    {
     "data": {
      "text/plain": [
       "612"
      ]
     },
     "execution_count": 432,
     "metadata": {},
     "output_type": "execute_result"
    }
   ],
   "source": [
    "dataTest.shape[1]"
   ]
  },
  {
   "cell_type": "code",
   "execution_count": null,
   "metadata": {},
   "outputs": [
    {
     "data": {
      "text/plain": [
       "613"
      ]
     },
     "execution_count": 433,
     "metadata": {},
     "output_type": "execute_result"
    }
   ],
   "source": [
    "XTotal.shape[1]"
   ]
  },
  {
   "cell_type": "code",
   "execution_count": null,
   "metadata": {},
   "outputs": [],
   "source": [
    "dataTest[revdataTest] = 0"
   ]
  },
  {
   "cell_type": "code",
   "execution_count": null,
   "metadata": {},
   "outputs": [],
   "source": [
    "dataTest.sort_index(axis=1,inplace=True)"
   ]
  },
  {
   "cell_type": "code",
   "execution_count": null,
   "metadata": {},
   "outputs": [],
   "source": [
    "y_pred = pd.DataFrame(boost.predict(dataTest))"
   ]
  },
  {
   "cell_type": "code",
   "execution_count": null,
   "metadata": {},
   "outputs": [
    {
     "data": {
      "text/html": [
       "<div>\n",
       "<style scoped>\n",
       "    .dataframe tbody tr th:only-of-type {\n",
       "        vertical-align: middle;\n",
       "    }\n",
       "\n",
       "    .dataframe tbody tr th {\n",
       "        vertical-align: top;\n",
       "    }\n",
       "\n",
       "    .dataframe thead th {\n",
       "        text-align: right;\n",
       "    }\n",
       "</style>\n",
       "<table border=\"1\" class=\"dataframe\">\n",
       "  <thead>\n",
       "    <tr style=\"text-align: right;\">\n",
       "      <th></th>\n",
       "      <th>0</th>\n",
       "    </tr>\n",
       "  </thead>\n",
       "  <tbody>\n",
       "    <tr>\n",
       "      <th>0</th>\n",
       "      <td>21505.763672</td>\n",
       "    </tr>\n",
       "    <tr>\n",
       "      <th>1</th>\n",
       "      <td>36808.511719</td>\n",
       "    </tr>\n",
       "    <tr>\n",
       "      <th>2</th>\n",
       "      <td>23439.218750</td>\n",
       "    </tr>\n",
       "    <tr>\n",
       "      <th>3</th>\n",
       "      <td>8157.271484</td>\n",
       "    </tr>\n",
       "    <tr>\n",
       "      <th>4</th>\n",
       "      <td>29908.765625</td>\n",
       "    </tr>\n",
       "  </tbody>\n",
       "</table>\n",
       "</div>"
      ],
      "text/plain": [
       "              0\n",
       "0  21505.763672\n",
       "1  36808.511719\n",
       "2  23439.218750\n",
       "3   8157.271484\n",
       "4  29908.765625"
      ]
     },
     "execution_count": 449,
     "metadata": {},
     "output_type": "execute_result"
    }
   ],
   "source": [
    "y_pred.to_csv('test_submission.csv', index_label='ID')\n",
    "y_pred.head()"
   ]
  },
  {
   "cell_type": "code",
   "execution_count": null,
   "metadata": {},
   "outputs": [],
   "source": [
    "param_grid = {\n",
    "    'learning_rate': [0.01, 0.1, 0.2],          # Tasa de aprendizaje\n",
    "    'n_estimators': [50, 100],            # Número de árboles de decisión\n",
    "    'max_depth': [3, 5, 7],                     # Profundidad máxima del árbol              # Peso mínimo del niño (hijo) requerido para dividir el nodo\n",
    "    'gamma': [0, 0.1, 0.2],                     # Parámetro de regularización gamma             # Proporción de muestras utilizadas para ajustar cada árbol\n",
    "    'colsample_bytree': [0.6, 0.8, 1.0]       # Proporción de características utilizadas para ajustar cada árbo            # Término de regularización L2 (lambda)\n",
    "}\n",
    "grid_search = GridSearchCV(estimator=boost, param_grid=param_grid, cv=5)"
   ]
  },
  {
   "cell_type": "code",
   "execution_count": null,
   "metadata": {},
   "outputs": [
    {
     "name": "stdout",
     "output_type": "stream",
     "text": [
      "Mejores parámetros: {'colsample_bytree': 1.0, 'gamma': 0, 'learning_rate': 0.1, 'max_depth': 5, 'n_estimators': 50}\n"
     ]
    }
   ],
   "source": [
    "# Ajustar la cuadrícula de parámetros utilizando GridSearchCV\n",
    "grid_search.fit(XTrain, yTrain)\n",
    "\n",
    "# Obtener los mejores parámetros\n",
    "best_params = grid_search.best_params_\n",
    "print(\"Mejores parámetros:\", best_params)\n",
    "\n",
    "# Obtener el mejor modelo\n",
    "best_model = grid_search.best_estimator_\n",
    "\n",
    "# Hacer predicciones con el mejor modelo\n",
    "predictions = best_model.predict(XTest)\n"
   ]
  },
  {
   "cell_type": "code",
   "execution_count": null,
   "metadata": {},
   "outputs": [
    {
     "data": {
      "text/plain": [
       "8938.731567689756"
      ]
     },
     "execution_count": 155,
     "metadata": {},
     "output_type": "execute_result"
    }
   ],
   "source": [
    "m.sqrt(mean_squared_error(yTest,predictions))"
   ]
  },
  {
   "cell_type": "code",
   "execution_count": null,
   "metadata": {},
   "outputs": [],
   "source": [
    "a=XGBRegressor(enable_categorical=True)"
   ]
  }
 ],
 "metadata": {
  "kernelspec": {
   "display_name": "Python 3 (ipykernel)",
   "language": "python",
   "name": "python3"
  },
  "language_info": {
   "codemirror_mode": {
    "name": "ipython",
    "version": 3
   },
   "file_extension": ".py",
   "mimetype": "text/x-python",
   "name": "python",
   "nbconvert_exporter": "python",
   "pygments_lexer": "ipython3",
   "version": "3.9.13"
  }
 },
 "nbformat": 4,
 "nbformat_minor": 4
}
