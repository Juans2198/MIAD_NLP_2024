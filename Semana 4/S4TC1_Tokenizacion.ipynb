{
 "cells": [
  {
   "cell_type": "markdown",
   "metadata": {},
   "source": [
    "![image info](https://raw.githubusercontent.com/albahnsen/MIAD_ML_and_NLP/main/images/banner_1.png)"
   ]
  },
  {
   "cell_type": "markdown",
   "metadata": {},
   "source": [
    "# Taller: Tokenización de textos  \n",
    "\n",
    "En este taller podrán poner en práctica sus conocimientos sobre preprocesamiento de texto (tokenización). El taller está constituido por 5 puntos, en los cuales deberan seguir las intrucciones de cada numeral para su desarrollo."
   ]
  },
  {
   "cell_type": "markdown",
   "metadata": {},
   "source": [
    "## Datos detección de toxicidad en comentarios\n",
    "\n",
    "En este taller se usará el conjunto de datos de detección de toxicidad en comentarios de la base de datos de Kaggle. Cada observación es un comentario que tiene como variable objetivo (target) la probabilidad de ser un comentario tóxico. El objetivo es predecir la toxicidad de cada comentario. Para más detalles pueden visitar el siguiente enlace: [datos](https://www.kaggle.com/c/jigsaw-unintended-bias-in-toxicity-classification/data)."
   ]
  },
  {
   "cell_type": "code",
   "execution_count": 2,
   "metadata": {},
   "outputs": [],
   "source": [
    "import warnings\n",
    "warnings.filterwarnings('ignore')"
   ]
  },
  {
   "cell_type": "code",
   "execution_count": 3,
   "metadata": {},
   "outputs": [],
   "source": [
    "# Importación librerías\n",
    "import pandas as pd\n",
    "import numpy as np\n",
    "import scipy as sp\n",
    "from sklearn.model_selection import train_test_split, cross_val_score\n",
    "from sklearn.feature_extraction.text import CountVectorizer, TfidfVectorizer\n",
    "from sklearn import metrics\n",
    "%matplotlib inline"
   ]
  },
  {
   "cell_type": "code",
   "execution_count": 4,
   "metadata": {},
   "outputs": [
    {
     "data": {
      "text/html": [
       "<div>\n",
       "<style scoped>\n",
       "    .dataframe tbody tr th:only-of-type {\n",
       "        vertical-align: middle;\n",
       "    }\n",
       "\n",
       "    .dataframe tbody tr th {\n",
       "        vertical-align: top;\n",
       "    }\n",
       "\n",
       "    .dataframe thead th {\n",
       "        text-align: right;\n",
       "    }\n",
       "</style>\n",
       "<table border=\"1\" class=\"dataframe\">\n",
       "  <thead>\n",
       "    <tr style=\"text-align: right;\">\n",
       "      <th></th>\n",
       "      <th>id</th>\n",
       "      <th>comment_text</th>\n",
       "      <th>target</th>\n",
       "    </tr>\n",
       "  </thead>\n",
       "  <tbody>\n",
       "    <tr>\n",
       "      <th>0</th>\n",
       "      <td>6101457</td>\n",
       "      <td>What are you talking about? What group do Pete...</td>\n",
       "      <td>0.0</td>\n",
       "    </tr>\n",
       "    <tr>\n",
       "      <th>1</th>\n",
       "      <td>5342103</td>\n",
       "      <td>NO!, Let him, we need a Conservative government.</td>\n",
       "      <td>0.0</td>\n",
       "    </tr>\n",
       "    <tr>\n",
       "      <th>2</th>\n",
       "      <td>743361</td>\n",
       "      <td>Perhaps he took the \"power out of the Cardinal...</td>\n",
       "      <td>0.2</td>\n",
       "    </tr>\n",
       "    <tr>\n",
       "      <th>3</th>\n",
       "      <td>551008</td>\n",
       "      <td>As always, yours is dripping with sarcasm, whi...</td>\n",
       "      <td>0.0</td>\n",
       "    </tr>\n",
       "    <tr>\n",
       "      <th>4</th>\n",
       "      <td>865998</td>\n",
       "      <td>The dirty little secret is that the price rang...</td>\n",
       "      <td>0.3</td>\n",
       "    </tr>\n",
       "  </tbody>\n",
       "</table>\n",
       "</div>"
      ],
      "text/plain": [
       "        id                                       comment_text  target\n",
       "0  6101457  What are you talking about? What group do Pete...     0.0\n",
       "1  5342103   NO!, Let him, we need a Conservative government.     0.0\n",
       "2   743361  Perhaps he took the \"power out of the Cardinal...     0.2\n",
       "3   551008  As always, yours is dripping with sarcasm, whi...     0.0\n",
       "4   865998  The dirty little secret is that the price rang...     0.3"
      ]
     },
     "execution_count": 4,
     "metadata": {},
     "output_type": "execute_result"
    }
   ],
   "source": [
    "# Carga de datos de archivos .csv\n",
    "df = pd.read_csv('https://raw.githubusercontent.com/albahnsen/MIAD_ML_and_NLP/main/datasets/Toxicity.zip')\n",
    "df = df[['id','comment_text', 'target']]\n",
    "df.head()"
   ]
  },
  {
   "cell_type": "code",
   "execution_count": 5,
   "metadata": {},
   "outputs": [
    {
     "data": {
      "text/plain": [
       "(541462, 3)"
      ]
     },
     "execution_count": 5,
     "metadata": {},
     "output_type": "execute_result"
    }
   ],
   "source": [
    "df.shape"
   ]
  },
  {
   "cell_type": "code",
   "execution_count": 6,
   "metadata": {},
   "outputs": [
    {
     "data": {
      "text/plain": [
       "<Axes: >"
      ]
     },
     "execution_count": 6,
     "metadata": {},
     "output_type": "execute_result"
    },
    {
     "data": {
      "image/png": "[encoded data removed]",
      "text/plain": [
       "<Figure size 640x480 with 1 Axes>"
      ]
     },
     "metadata": {},
     "output_type": "display_data"
    }
   ],
   "source": [
    "# Impresión histograma de variable de interés (y)\n",
    "df.target.hist()"
   ]
  },
  {
   "cell_type": "code",
   "execution_count": 7,
   "metadata": {},
   "outputs": [
    {
     "data": {
      "text/plain": [
       "count    541462.000000\n",
       "mean          0.102991\n",
       "std           0.196979\n",
       "min           0.000000\n",
       "25%           0.000000\n",
       "50%           0.000000\n",
       "75%           0.166667\n",
       "max           1.000000\n",
       "Name: target, dtype: float64"
      ]
     },
     "execution_count": 7,
     "metadata": {},
     "output_type": "execute_result"
    }
   ],
   "source": [
    "# Separación de variable de interés (y)\n",
    "y = df.target\n",
    "y.describe()"
   ]
  },
  {
   "cell_type": "code",
   "execution_count": 8,
   "metadata": {},
   "outputs": [],
   "source": [
    "# Separación de variables predictoras (X), solo se considera el texto de la noticia\n",
    "X = df.comment_text"
   ]
  },
  {
   "cell_type": "code",
   "execution_count": 9,
   "metadata": {},
   "outputs": [],
   "source": [
    "# Separación de datos en set de entrenamiento y test\n",
    "X_train, X_test, y_train, y_test = train_test_split(X, y, test_size=0.33, random_state=42)"
   ]
  },
  {
   "cell_type": "code",
   "execution_count": 10,
   "metadata": {},
   "outputs": [
    {
     "name": "stderr",
     "output_type": "stream",
     "text": [
      "WARNING: You are using pip version 22.0.4; however, version 24.0 is available.\n",
      "You should consider upgrading via the 'C:\\Users\\Asus\\AppData\\Local\\Microsoft\\WindowsApps\\PythonSoftwareFoundation.Python.3.9_qbz5n2kfra8p0\\python.exe -m pip install --upgrade pip' command.\n"
     ]
    },
    {
     "name": "stdout",
     "output_type": "stream",
     "text": [
      "Requirement already satisfied: nltk in c:\\users\\asus\\appdata\\local\\packages\\pythonsoftwarefoundation.python.3.9_qbz5n2kfra8p0\\localcache\\local-packages\\python39\\site-packages (3.8.1)\n",
      "Requirement already satisfied: joblib in c:\\users\\asus\\appdata\\local\\packages\\pythonsoftwarefoundation.python.3.9_qbz5n2kfra8p0\\localcache\\local-packages\\python39\\site-packages (from nltk) (1.4.0)\n",
      "Requirement already satisfied: click in c:\\users\\asus\\appdata\\local\\packages\\pythonsoftwarefoundation.python.3.9_qbz5n2kfra8p0\\localcache\\local-packages\\python39\\site-packages (from nltk) (8.1.7)\n",
      "Requirement already satisfied: tqdm in c:\\users\\asus\\appdata\\local\\packages\\pythonsoftwarefoundation.python.3.9_qbz5n2kfra8p0\\localcache\\local-packages\\python39\\site-packages (from nltk) (4.66.2)\n",
      "Requirement already satisfied: regex>=2021.8.3 in c:\\users\\asus\\appdata\\local\\packages\\pythonsoftwarefoundation.python.3.9_qbz5n2kfra8p0\\localcache\\local-packages\\python39\\site-packages (from nltk) (2024.4.16)\n",
      "Requirement already satisfied: colorama in c:\\users\\asus\\appdata\\local\\packages\\pythonsoftwarefoundation.python.3.9_qbz5n2kfra8p0\\localcache\\local-packages\\python39\\site-packages (from click->nltk) (0.4.6)\n"
     ]
    }
   ],
   "source": [
    "!pip install nltk\n",
    "from sklearn.linear_model import LinearRegression\n",
    "from sklearn.linear_model import ElasticNet\n",
    "from sklearn.linear_model import Ridge\n",
    "from sklearn.linear_model import Lasso\n",
    "from nltk.stem.snowball import SnowballStemmer"
   ]
  },
  {
   "cell_type": "code",
   "execution_count": 11,
   "metadata": {},
   "outputs": [],
   "source": [
    "from sklearn.ensemble import RandomForestRegressor\n",
    "from sklearn.model_selection import GridSearchCV\n",
    "from sklearn.metrics import mean_squared_error\n",
    "import matplotlib.pyplot as plt"
   ]
  },
  {
   "cell_type": "markdown",
   "metadata": {},
   "source": [
    "## Punto 1 - Tokenización con CountVectorizer\n",
    "\n",
    "En la celda 1 creen y entrenen el modelo de regresión de su preferencia, para que prediga la probabilidad de que un comentario sea tóxico, usando los set de entrenamiento y test definidos anteriormente. Usen la función **CountVectorizer** para preprocesar los comentarios y presenten el desempeño del modelo con la métrica del MSE.\n",
    "\n",
    "Recuerden que el preprocesamiento que se haga sobre los datos de entrenamiento  (*.fit_transform()*) deben ser aplicado al set de test (*.transform()*)."
   ]
  },
  {
   "cell_type": "code",
   "execution_count": 12,
   "metadata": {},
   "outputs": [],
   "source": [
    "# Celda 1\n",
    "vect = CountVectorizer()\n",
    "X_train_trans = vect.fit_transform(X_train)\n",
    "X_test_trans = vect.transform(X_test)"
   ]
  },
  {
   "cell_type": "code",
   "execution_count": 13,
   "metadata": {},
   "outputs": [
    {
     "data": {
      "text/plain": [
       "(362779, 141176)"
      ]
     },
     "execution_count": 13,
     "metadata": {},
     "output_type": "execute_result"
    }
   ],
   "source": [
    "# Revisamos la estructura de la matriz obtenida en el conjunto de entrenamiento,\n",
    "# observamos que hay 362.779 comentarios y se generan 141.176 tokens.\n",
    "X_train_trans.shape"
   ]
  },
  {
   "cell_type": "code",
   "execution_count": 14,
   "metadata": {},
   "outputs": [
    {
     "name": "stdout",
     "output_type": "stream",
     "text": [
      "['𝗕𝗲' '𝗙𝗮𝘁𝗵𝗲𝗿' '𝗜𝗳' '𝗦𝗼' '𝗧𝗿𝘂𝗹𝘆' '𝗮𝗻𝗱' '𝗮𝗻𝗻𝗼𝘂𝗻𝗰𝗲' '𝗮𝘀' '𝗯𝗲' '𝗯𝗶𝗹𝗹𝗶𝗼𝗻' '𝗯𝘆'\n",
      " '𝗰𝗮𝗿𝗲𝗳𝘂𝗹' '𝗱𝗼' '𝗱𝗼𝗹𝗹𝗮𝗿𝘀' '𝗳𝗿𝗼𝗺' '𝗳𝗿𝗼𝗻𝘁' '𝗳𝘂𝗹𝗹' '𝗴𝗞𝗭𝗘𝗳𝗿𝗪𝟱𝗺𝟳𝗤' '𝗴𝗶𝘃𝗲'\n",
      " '𝗵𝗮𝘃𝗲' '𝗵𝗲𝗮𝘃𝗲𝗻' '𝗵𝗼𝗻𝗼𝗿𝗲𝗱' '𝗵𝘁𝘁𝗽𝘀' '𝗵𝘆𝗽𝗼𝗰𝗿𝗶𝘁𝗲𝘀' '𝗶𝗻' '𝗶𝘁' '𝗻𝗲𝗲𝗱𝘆' '𝗻𝗼'\n",
      " '𝗻𝗼𝘁' '𝗼𝗳' '𝗼𝗻' '𝗼𝘁𝗵𝗲𝗿𝘀' '𝗽𝗿𝗮𝗰𝘁𝗶𝗰𝗲' '𝗿𝗲𝗰𝗲𝗶𝘃𝗲𝗱' '𝗿𝗲𝘄𝗮𝗿𝗱' '𝗿𝗶𝗴𝗵𝘁𝗲𝗼𝘂𝘀𝗻𝗲𝘀𝘀'\n",
      " '𝘀𝗲𝗲𝗻' '𝘀𝘁𝗿𝗲𝗲𝘁𝘀' '𝘀𝘆𝗻𝗮𝗴𝗼𝗴𝘂𝗲𝘀' '𝘁𝗲𝗹𝗹' '𝘁𝗵𝗲' '𝘁𝗵𝗲𝗶𝗿' '𝘁𝗵𝗲𝗺' '𝘁𝗵𝗲𝘆' '𝘁𝗼'\n",
      " '𝘁𝗿𝘂𝗺𝗽𝗲𝘁𝘀' '𝘄𝗵𝗲𝗻' '𝘄𝗶𝗹𝗹' '𝘄𝗶𝘁𝗵' '𝘆𝗼𝘂']\n"
     ]
    }
   ],
   "source": [
    "#Revismaos algunos de los tokens\n",
    "print(vect.get_feature_names_out()[-150:-100])"
   ]
  },
  {
   "cell_type": "code",
   "execution_count": 15,
   "metadata": {},
   "outputs": [
    {
     "ename": "NameError",
     "evalue": "name 'y_pred' is not defined",
     "output_type": "error",
     "traceback": [
      "\u001b[1;31m---------------------------------------------------------------------------\u001b[0m",
      "\u001b[1;31mNameError\u001b[0m                                 Traceback (most recent call last)",
      "Cell \u001b[1;32mIn[15], line 5\u001b[0m\n\u001b[0;32m      3\u001b[0m lasso\u001b[38;5;241m.\u001b[39mfit(X_train_trans,y_train)\n\u001b[0;32m      4\u001b[0m y_pred_lasso \u001b[38;5;241m=\u001b[39m lasso\u001b[38;5;241m.\u001b[39mpredict(X_test_trans)\n\u001b[1;32m----> 5\u001b[0m mselasso \u001b[38;5;241m=\u001b[39m mean_squared_error(y_test,\u001b[43my_pred\u001b[49m)\n\u001b[0;32m      6\u001b[0m \u001b[38;5;66;03m#param_grid = {'alpha': alphas} \u001b[39;00m\n\u001b[0;32m      7\u001b[0m \n\u001b[0;32m      8\u001b[0m \u001b[38;5;66;03m#grid_search = GridSearchCV(lasso, param_grid, cv=5, scoring='neg_mean_squared_error')\u001b[39;00m\n\u001b[0;32m      9\u001b[0m \u001b[38;5;66;03m#grid_search.fit(X_train_trans, y_train)\u001b[39;00m\n\u001b[0;32m     10\u001b[0m \u001b[38;5;66;03m#best_params = grid_search.best_params_\u001b[39;00m\n\u001b[0;32m     11\u001b[0m \u001b[38;5;66;03m#best_estimator = grid_search.best_estimator_\u001b[39;00m\n",
      "\u001b[1;31mNameError\u001b[0m: name 'y_pred' is not defined"
     ]
    }
   ],
   "source": [
    "#alphas = np.logspace(-4, 4, 9)\n",
    "lasso = Lasso(alpha=100)\n",
    "lasso.fit(X_train_trans,y_train)\n",
    "y_pred_lasso = lasso.predict(X_test_trans)\n",
    "mselasso = mean_squared_error(y_test,y_pred)\n",
    "#param_grid = {'alpha': alphas} \n",
    "\n",
    "#grid_search = GridSearchCV(lasso, param_grid, cv=5, scoring='neg_mean_squared_error')\n",
    "#grid_search.fit(X_train_trans, y_train)\n",
    "#best_params = grid_search.best_params_\n",
    "#best_estimator = grid_search.best_estimator_"
   ]
  },
  {
   "cell_type": "code",
   "execution_count": null,
   "metadata": {},
   "outputs": [],
   "source": [
    "#alphas = [0.01,0.1,1,10,100,1000]\n",
    "#mses = []\n",
    "#for alpha in alphas:\n",
    " #   ridge = Ridge(alpha=alpha)\n",
    "  #  ridge.fit(X_train_trans,y_train)\n",
    "   # y_pred_ridge = ridge.predict(X_test_trans)\n",
    "    #mseridge = mean_squared_error(y_test,y_pred_ridge)\n",
    "    #mses.append(mseridge)\n",
    "\n",
    "\n",
    "#y_pred_ridge = ridge.predict(X_test_trans)\n",
    "#mseridge = mean_squared_error(y_test,y_pred_ridge)"
   ]
  },
  {
   "cell_type": "code",
   "execution_count": null,
   "metadata": {},
   "outputs": [
    {
     "data": {
      "text/plain": [
       "[<matplotlib.lines.Line2D at 0x26d50d3db80>]"
      ]
     },
     "execution_count": 45,
     "metadata": {},
     "output_type": "execute_result"
    },
    {
     "data": {
      "image/png": "[encoded data removed]",
      "text/plain": [
       "<Figure size 640x480 with 1 Axes>"
      ]
     },
     "metadata": {},
     "output_type": "display_data"
    }
   ],
   "source": [
    "plt.plot(alphas,mses)"
   ]
  },
  {
   "cell_type": "code",
   "execution_count": 20,
   "metadata": {},
   "outputs": [],
   "source": [
    "best_alpha = 100\n",
    "#alphas[mses.index(min(mses))]"
   ]
  },
  {
   "cell_type": "code",
   "execution_count": 21,
   "metadata": {},
   "outputs": [],
   "source": [
    "mses = {}\n",
    "ridge = Ridge(alpha=best_alpha)\n",
    "ridge.fit(X_train_trans,y_train)\n",
    "y_pred_ridge = ridge.predict(X_test_trans)\n",
    "mseridge = mean_squared_error(y_test,y_pred_ridge)\n",
    "mses['CountVectorizerSimple'] = mseridge"
   ]
  },
  {
   "cell_type": "code",
   "execution_count": 22,
   "metadata": {},
   "outputs": [
    {
     "data": {
      "text/plain": [
       "{'CountVectorizerSimple': 0.022750875565983403}"
      ]
     },
     "execution_count": 22,
     "metadata": {},
     "output_type": "execute_result"
    }
   ],
   "source": [
    "mses"
   ]
  },
  {
   "cell_type": "code",
   "execution_count": null,
   "metadata": {},
   "outputs": [],
   "source": [
    "EN = ElasticNet(alpha=200, l1_ratio=0.2)\n",
    "EN.fit(X_train_trans,y_train)\n",
    "y_pred_EN = EN.predict(X_test_trans)\n",
    "mseEN = mean_squared_error(y_test,y_pred_ridge)"
   ]
  },
  {
   "cell_type": "code",
   "execution_count": null,
   "metadata": {},
   "outputs": [
    {
     "data": {
      "text/plain": [
       "0.022750875565983403"
      ]
     },
     "execution_count": 31,
     "metadata": {},
     "output_type": "execute_result"
    }
   ],
   "source": [
    "mseridge"
   ]
  },
  {
   "cell_type": "code",
   "execution_count": null,
   "metadata": {},
   "outputs": [
    {
     "data": {
      "text/plain": [
       "0.022750875565983403"
      ]
     },
     "execution_count": 33,
     "metadata": {},
     "output_type": "execute_result"
    }
   ],
   "source": [
    "mseEN"
   ]
  },
  {
   "cell_type": "markdown",
   "metadata": {},
   "source": [
    "## Punto 2 - Tokenización con CountVectorizer y trigramas\n",
    "\n",
    "En la celda 2 creen y entrenen el mismo modelo de regresión del punto anterior (es decir si usaron un RandomForestRegresor usen nuevamente ese regresor), para que prediga la probabilidad de que un comentario sea tóxico, usando los set de entrenamiento y test definidos anteriormente. Usen la función CountVectorizer **considerando trigramas** para preprocesar los comentarios y presenten el desempeño del modelo con la métrica del MSE.\n",
    "\n",
    "Recuerden que el preprocesamiento que se haga sobre los datos de entrenamiento  (*.fit_transform()*) deben ser aplicado al set de test (*.transform()*)."
   ]
  },
  {
   "cell_type": "code",
   "execution_count": 23,
   "metadata": {},
   "outputs": [],
   "source": [
    "# Celda 2\n",
    "vect_trig = CountVectorizer(ngram_range=(3,3))\n",
    "X_train_trig = vect_trig.fit_transform(X_train)\n",
    "X_test_trig = vect_trig.transform(X_test)\n",
    "model = Ridge(alpha = best_alpha)\n",
    "model.fit(X_train_trig,y_train)\n",
    "y_pred_trig = model.predict(X_test_trig)\n",
    "mse_trig = mean_squared_error(y_test,y_pred_trig)"
   ]
  },
  {
   "cell_type": "code",
   "execution_count": 25,
   "metadata": {},
   "outputs": [],
   "source": [
    "mses['CountVectorizerTrigrama']= mse_trig"
   ]
  },
  {
   "cell_type": "code",
   "execution_count": 26,
   "metadata": {},
   "outputs": [
    {
     "data": {
      "text/plain": [
       "{'CountVectorizerSimple': 0.022750875565983403,\n",
       " 'CountVectorizerTrigrama': 0.03552382823645575}"
      ]
     },
     "execution_count": 26,
     "metadata": {},
     "output_type": "execute_result"
    }
   ],
   "source": [
    "mses"
   ]
  },
  {
   "cell_type": "markdown",
   "metadata": {},
   "source": [
    "## Punto 3 - TfidfVectorizer\n",
    "\n",
    "Investigen sobre la función TfidfVectorizer. En la celda de texto 3, expliquen en qué consiste esta técnica de tokenización (describanla y expliquen su funcionamiento) y cúales son las ventajas o deventajas de su uso al compararlo con la función CountVectorizer."
   ]
  },
  {
   "cell_type": "markdown",
   "metadata": {},
   "source": [
    "La función TfidVectorizer es similar a la función CountVectorizer, ya que también genera una matriz con los tokens del input. Sin embargo, CountVectorizer genera la matriz con los tokens únicos y un conteo de la cantidad de veces que aparecen en todo el input, por lo que asigna la misma importancia a todos los tokens, lo que hace que al final tengan mayor peso aquellas palabras que mas se repitan. Esto, en muchos casos puede ser negativo, ya que se le da mas peso a palabras de alta frecuencia pero poco valor explicativo como conectores como: de,en,se,etc.\n",
    "\n",
    "Así, con el fin de evitar este problema la función TfidVectorizer implementa dos segmentos en su función:\n",
    "\n",
    "**TF (Term Frequency - Frecuencia del Término):**\n",
    "\n",
    "$$TF = \\frac{\\text{Número de repeticiones de la palabra en la oración}}{\\text{Número de palabras en la oración}}$$\n",
    "\n",
    "\n",
    "Este término mide la frecuencia de repetición de las palabras en la oración, por lo que asigna una importancia local de la palabra en la oración, dándole mayor peso a aquellas con mayor frecuencia dentro de la oración.\n",
    "\n",
    "**IDF (Inverse Document Frequency - Frecuencia Inversa del Documento):**\n",
    "\n",
    "$$IDF = \\log\\left(\\frac{\\text{Número de líneas del documento}}{\\text{Número de líneas que contienen la palabra}}\\right)$$\n",
    "\n",
    "Este término penaliza aquellas palabras que aparecen en demasiadas líneas del total de líneas, esto porque se usa la función logaritmo en base 10, la cual es una función creciente, por lo que entre menos aparezca la palabra en todo el documento, mayor peso tendrá en este término, y entre más aparezca, más se acercara este término a 0.\n",
    "\n",
    "Finalmente, el valor que toma la palabra con el TfidfVectorizer corresponde al producto de estos dos términos. Por lo que al final el valor es una combinación de la frecuencia de las palabras dentro de cada línea y una penalización por el numero de repeticiones dentro de todas las líneas.\n",
    "\n",
    "**Ventajas:**\n",
    "\n",
    "- Penaliza palabras repetidas en todas las líneas, lo que permite reducir la complejidad del modelo, al asignar (en algunos casos) peso de 0 a palabras muy generales como conectores, que a final no agregan mucha información al modelo.\n",
    "- La penalización también ayuda a reducir el peso de palabras con poco valor informativo muy repetitivas como los conectores, mientras que, el CountVectorizer les da bastante peso a estas palabras simplemente por su alta frecuencia, lo que no siempre es bueno para el modelo.\n",
    "\n",
    "**Desventajas:**\n",
    "\n",
    "- Suele tener mayor demanda computacional, ya que implica realizar cálculos más complejos que el simple conteo que realiza el CountVectorizer.\n",
    "- Puede no funcionar muy bien en conjuntos de datos pequeños y/ o muy  específicos. Por su algoritmo de funcionamiento puede llegar a asignar pesos de forma inadecuada debido a la escasez de datos y esto se ve aún más agravado cuando las palabras son muy infrecuentes y aparecen en muy pocas líneas. Es por esto que, tiende a funcionar mejor en conjuntos de datos grandes y con términos más generales que específicos.\n"
   ]
  },
  {
   "cell_type": "markdown",
   "metadata": {},
   "source": [
    "## Punto 4 - Tokenización con TfidfVectorizer\n",
    "\n",
    "En la celda 4 creen y entrenen el mismo modelo de regresión del primer punto, para que prediga la probabilidad de que un comentario sea tóxico, usando los set de entrenamiento y test definidos anteriormente. Procesen los comentarios con la función **TfidfVectorizer** y presenten el desempeño del modelo con la métrica del MSE.\n",
    "\n",
    "Recuerden que el preprocesamiento que se haga sobre los datos de entrenamiento  (*.fit_transform()*) deben ser aplicado al set de test (*.transform()*)."
   ]
  },
  {
   "cell_type": "code",
   "execution_count": 29,
   "metadata": {},
   "outputs": [],
   "source": [
    "# Celda 4\n",
    "vect_tfid = TfidfVectorizer()\n",
    "X_train_tfid = vect_tfid.fit_transform(X_train)\n",
    "X_test_tfid = vect_tfid.transform(X_test)\n",
    "model.fit(X_train_tfid,y_train)\n",
    "y_pred_tfid = model.predict(X_test_tfid)\n",
    "mse_tfid = mean_squared_error(y_test,y_pred_tfid)"
   ]
  },
  {
   "cell_type": "code",
   "execution_count": 30,
   "metadata": {},
   "outputs": [],
   "source": [
    "mses['TfidfVectorizer']= mse_tfid"
   ]
  },
  {
   "cell_type": "code",
   "execution_count": 31,
   "metadata": {},
   "outputs": [
    {
     "data": {
      "text/plain": [
       "{'CountVectorizerSimple': 0.022750875565983403,\n",
       " 'CountVectorizerTrigrama': 0.03552382823645575,\n",
       " 'TfidfVectorizer': 0.02574520587951565}"
      ]
     },
     "execution_count": 31,
     "metadata": {},
     "output_type": "execute_result"
    }
   ],
   "source": [
    "mses"
   ]
  },
  {
   "cell_type": "markdown",
   "metadata": {},
   "source": [
    "## Punto 5 - Comparación y análisis de resultados\n",
    "\n",
    "En la celda 5 comparen los resultados obtenidos de los diferentes modelos y comenten cómo el preprocesamiento de texto afecta el desempeño."
   ]
  },
  {
   "cell_type": "code",
   "execution_count": 44,
   "metadata": {},
   "outputs": [
    {
     "data": {
      "image/png": "[encoded data removed]",
      "text/plain": [
       "<Figure size 640x480 with 1 Axes>"
      ]
     },
     "metadata": {},
     "output_type": "display_data"
    }
   ],
   "source": [
    "# Celda 5\n",
    "bars = plt.bar(mses.keys(),mses.values())\n",
    "min_value = min(mses.values())\n",
    "for bar in bars:\n",
    "    if bar.get_height() == min_value:\n",
    "        bar.set_linewidth(2)  # Aumentar el grosor de la línea\n",
    "        bar.set_edgecolor('red')  # Cambiar el color de la línea\n",
    "    plt.text(bar.get_x() + bar.get_width() / 2, bar.get_height()/2, round(bar.get_height(), 4),\n",
    "             ha='center', va='bottom',color='white')\n",
    "plt.tight_layout\n",
    "plt.xticks(rotation=45, fontsize=12)  \n",
    "plt.show()"
   ]
  },
  {
   "cell_type": "markdown",
   "metadata": {},
   "source": [
    "Para comenzar es importante hacer énfasis en la importancia de la tokenización para el análisis predictivo y como disponibiliza un nuevo abanico de opciones para el modelaje predictivo por medio de estructuras de datos que se componen principalmente de texto. Es decir, los datos implementados para realizar el modelo en el presente laboratorio poseen una estructura poco convencional y compleja de abordar sin realizar algún procedimiento de preprocesamiento de texto como la tokenización implementada. Así, se puede concluir que el proceso de tokenización es una herramienta efectiva y bastante útil que debería ser siempre considerada al momento de plantear un algoritmo predictivo en estructuras de datos basadas en texto.\n",
    "\n",
    "Como es posible observar el mejor modelo obtenido fue el modelo calibrado de regresión Ridge y con preprocesamiento de texto en los datos de entrenamiento y testeo por medio de la función CountVectorizer con todos sus parámetros default. Es decir, en ambos casos, al implementar la función CountVectorizer con trigramas y usando la función TfidVectorizer con sus parámetros default, el desempeño del modelo se vio afectado negativamente, pues el MSE en ambos casos incrementó, viéndose principalmente afectados al implementar la función CountVectorizer con trigramas. De esta forma, podemos observar la influencia e importancia de realizar correctamente el preprocesamiento de texto previo a la implementación del modelo y como es importante también iterar sobre distintas posibilidades, hasta encontrar el preprocesamiento que asegure el mejor desempeño. Es decir, en ningún momento se asegura mejor desempeño a través de una función u otra, por lo que la elección de que función usar para tokenizar y los parámetros a usar en la función se convierten en un nuevo paso de calibración (además de los hiperparámtros regulares del modelo de predicción escogido). Por ejemplo en este caso el preprocesamiento que nos aseguró un mejor desempeño fue el modelo mas simple, sin embargo, no era intuitivo que así fuera y hubo la necesidad de comprobar la inferioridad en desempeño a través de otros hiperparámetros y funciones para hacer la selección.\n",
    "\n",
    "Finalmente, la simplicidad del CountVectorizer para este contexto resultó ser adecuada, es decir, los trigramas terminan siendo contraproducentes, la introducción de mas contexto en este caso fue contraproducente, obteniendo el peor de los resultados por medio de este preprocesamiento. Asimismo, la introducción de los pesos por medio de la función TfidVectorizer resulto contraproducente también, aunque el valor de MSE se acerca más al mínimo obtenido a comparación de la implementación con trigramas. Esto podría ser explicado porque los pesos se están distribuyendo de manera errónea y un contexto tan especifico seguramente existen palabras muy repetitivas en cada línea con alto valor explicativo que están siendo muy penalizadas, por lo que se les resta importancia al momento de predecir, lo que resulta contraproducente.\n",
    "\n"
   ]
  }
 ],
 "metadata": {
  "kernelspec": {
   "display_name": "Python 3 (ipykernel)",
   "language": "python",
   "name": "python3"
  },
  "language_info": {
   "codemirror_mode": {
    "name": "ipython",
    "version": 3
   },
   "file_extension": ".py",
   "mimetype": "text/x-python",
   "name": "python",
   "nbconvert_exporter": "python",
   "pygments_lexer": "ipython3",
   "version": "3.9.13"
  },
  "name": "_merged"
 },
 "nbformat": 4,
 "nbformat_minor": 4
}
